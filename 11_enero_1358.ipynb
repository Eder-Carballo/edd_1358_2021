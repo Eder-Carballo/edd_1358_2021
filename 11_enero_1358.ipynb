{
  "nbformat": 4,
  "nbformat_minor": 0,
  "metadata": {
    "colab": {
      "name": "11_enero_1358.ipynb",
      "provenance": [],
      "authorship_tag": "ABX9TyOHYua2HfHhcZwK6V9TiBSj",
      "include_colab_link": true
    },
    "kernelspec": {
      "name": "python3",
      "display_name": "Python 3"
    }
  },
  "cells": [
    {
      "cell_type": "markdown",
      "metadata": {
        "id": "view-in-github",
        "colab_type": "text"
      },
      "source": [
        "<a href=\"https://colab.research.google.com/github/Eder-Carballo/edd_1358_2021/blob/master/11_enero_1358.ipynb\" target=\"_parent\"><img src=\"https://colab.research.google.com/assets/colab-badge.svg\" alt=\"Open In Colab\"/></a>"
      ]
    },
    {
      "cell_type": "code",
      "metadata": {
        "id": "bmk5I7odNZId"
      },
      "source": [
        "class NodoArbol:\r\n",
        "    def __init__( self , dato , hijo_izq=None , hijo_der=None):\r\n",
        "        self.dato = dato\r\n",
        "        self.hijo_izq = hijo_izq\r\n",
        "        self.hijo_der = hijo_der"
      ],
      "execution_count": 10,
      "outputs": []
    },
    {
      "cell_type": "code",
      "metadata": {
        "id": "mHFzqoG1PV8S"
      },
      "source": [
        "arbol = NodoArbol( \"R\" )\r\n",
        "arbol.hijo_izq = NodoArbol(\"C\")\r\n",
        "arbol.hijo_der = NodoArbol(\"H\")"
      ],
      "execution_count": 13,
      "outputs": []
    },
    {
      "cell_type": "code",
      "metadata": {
        "colab": {
          "base_uri": "https://localhost:8080/"
        },
        "id": "50biJoZYRkxv",
        "outputId": "ba4a1630-f2f6-4a87-b367-9b1a4514a1a1"
      },
      "source": [
        "print(arbol.dato)\r\n",
        "print(arbol.hijo_izq.dato)\r\n",
        "print(arbol.hijo_der.dato)"
      ],
      "execution_count": 17,
      "outputs": [
        {
          "output_type": "stream",
          "text": [
            "R\n",
            "C\n",
            "H\n"
          ],
          "name": "stdout"
        }
      ]
    },
    {
      "cell_type": "code",
      "metadata": {
        "colab": {
          "base_uri": "https://localhost:8080/"
        },
        "id": "59WsvZtxSi8f",
        "outputId": "6f979577-6461-4884-80fd-c9f9ce483d81"
      },
      "source": [
        "arbol_v2 = NodoArbol( \"R\" , NodoArbol(\"C\") , NodoArbol(\"H\") )\r\n",
        "print(arbol_v2.dato)\r\n",
        "print(arbol_v2.hijo_izq.dato)\r\n",
        "print(arbol_v2.hijo_der.dato)"
      ],
      "execution_count": 21,
      "outputs": [
        {
          "output_type": "stream",
          "text": [
            "R\n",
            "C\n",
            "H\n"
          ],
          "name": "stdout"
        }
      ]
    },
    {
      "cell_type": "code",
      "metadata": {
        "colab": {
          "base_uri": "https://localhost:8080/"
        },
        "id": "BzTYtk1yTbll",
        "outputId": "65daee8a-5f82-4072-bb35-3b0a4f4fa7f2"
      },
      "source": [
        "#Ejercicion2\r\n",
        "arbol2 = NodoArbol(4,NodoArbol(3, NodoArbol(2, NodoArbol(2))), NodoArbol(5))\r\n",
        "aux = arbol2\r\n",
        "while aux.hijo_izq != None:\r\n",
        "    aux = aux.hijo_izq\r\n",
        "print(aux.dato)"
      ],
      "execution_count": 33,
      "outputs": [
        {
          "output_type": "stream",
          "text": [
            "2\n"
          ],
          "name": "stdout"
        }
      ]
    },
    {
      "cell_type": "code",
      "metadata": {
        "colab": {
          "base_uri": "https://localhost:8080/"
        },
        "id": "sA6deOCXUtHL",
        "outputId": "6ee0fd44-8ee9-479f-f66c-929cfe6aab5e"
      },
      "source": [
        "#Ejercicion3\r\n",
        "arbol3 = NodoArbol(\"Santi\" , None , NodoArbol(\"Jesus\" , NodoArbol(\"Pedro\", None , NodoArbol(\"Pedro\"))))\r\n",
        "print(arbol3.dato)\r\n",
        "print(arbol3.hijo_der.dato)\r\n",
        "print(arbol3.hijo_der.hijo_izq.dato)\r\n",
        "print(arbol3.hijo_der.hijo_izq.hijo_der.dato)"
      ],
      "execution_count": 29,
      "outputs": [
        {
          "output_type": "stream",
          "text": [
            "Santi\n",
            "Jesus\n",
            "Pedro\n",
            "Pedro\n"
          ],
          "name": "stdout"
        }
      ]
    },
    {
      "cell_type": "code",
      "metadata": {
        "id": "Di6Bo8joYzjE"
      },
      "source": [
        "#Ejercicion4\r\n",
        "class Nodo_Arbol:\r\n",
        "    def __init__( self , dato , hijo_izq=None , hijo_central=None , hijo_der=None):\r\n",
        "        self.dato = dato\r\n",
        "        self.hijo_izq = hijo_izq\r\n",
        "        self.hijo_der = hijo_der\r\n",
        "        self.hijo_central=  hijo_central\r\n",
        "\r\n",
        "arbol3 = Nodo_Arbol(\"R\" , Nodo_Arbol(\"I\" , None , Nodo_Arbol(\"X\")) , Nodo_Arbol(\"C\" , Nodo_Arbol(\"Y\")) , Nodo_Arbol(\"D\" , None , None , Nodo_Arbol(\"Z\")))"
      ],
      "execution_count": 34,
      "outputs": []
    }
  ]
}