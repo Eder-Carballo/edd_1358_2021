{
  "nbformat": 4,
  "nbformat_minor": 0,
  "metadata": {
    "colab": {
      "name": "12_octubre_1358.ipynb",
      "provenance": [],
      "authorship_tag": "ABX9TyNvAksPG6MEi14HBKZNl8JU",
      "include_colab_link": true
    },
    "kernelspec": {
      "name": "python3",
      "display_name": "Python 3"
    }
  },
  "cells": [
    {
      "cell_type": "markdown",
      "metadata": {
        "id": "view-in-github",
        "colab_type": "text"
      },
      "source": [
        "<a href=\"https://colab.research.google.com/github/Eder-Carballo/edd_1358_2021/blob/master/12_octubre_1358.ipynb\" target=\"_parent\"><img src=\"https://colab.research.google.com/assets/colab-badge.svg\" alt=\"Open In Colab\"/></a>"
      ]
    },
    {
      "cell_type": "code",
      "metadata": {
        "id": "iv35FFPEUg09",
        "outputId": "99da80a6-7035-4bda-c21b-6fe8150760da",
        "colab": {
          "base_uri": "https://localhost:8080/",
          "height": 105
        }
      },
      "source": [
        "#diccionarios (continuacion)\n",
        "cliente_banco = {\n",
        "              \"id\" : 1,\n",
        "              \"nombres\" : [\"Juan\", \"Antonio\"],\n",
        "              \"paterno\" : \"Garcia\",\n",
        "              \"materno\" : \"Perez\",\n",
        "              \"telefonos\" : {\n",
        "                            \"casa\" : 5566778899,\n",
        "                             \"celular\" : 5544332211,\n",
        "                             \"trabajo\": 5566223311\n",
        "                             },\n",
        "              \"activo\" : True,\n",
        "              \"balance\" : 234567.89,\n",
        "              \"tarjetas\" : ({\"tipo\" : \"debito\", \"saldo\" : 12000}, {\"tipo\" : \"credito\", \"saldo\" : 3500.0})\n",
        "    }\n",
        "print(cliente_banco) \n",
        "#cliente_banco[\"balance\"] = cliente_banco[\"balance\"] -1000.89\n",
        "cliente_banco[\"balance\"] -=-1000.89\n",
        "\n",
        "print(cliente_banco)\n",
        "cliente_banco[\"tarjetas\"] = ({\"tipo\" : \"debito\", \"saldo\" : 12000},\n",
        "                             {\"tipo\" : \"credito\", \"saldo\" : 3500.0},\n",
        "                             {\"tipo\" : \"credito\", \"nivel\" : \"oro\", \"saldo\" : 50000})\n",
        "print(cliente_banco)\n",
        "cliente_banco[\"direccion\"] = {\"calle\" : \"rancho seco\", \"num\" : 23}\n",
        "print(cliente_banco)\n",
        "cliente_banco.pop(\"tarjetas\")\n",
        "print(cliente_banco)"
      ],
      "execution_count": 7,
      "outputs": [
        {
          "output_type": "stream",
          "text": [
            "{'id': 1, 'nombres': ['Juan', 'Antonio'], 'paterno': 'Garcia', 'materno': 'Perez', 'telefonos': {'casa': 5566778899, 'celular': 5544332211, 'trabajo': 5566223311}, 'activo': True, 'balance': 234567.89, 'tarjetas': ({'tipo': 'debito', 'saldo': 12000}, {'tipo': 'credito', 'saldo': 3500.0})}\n",
            "{'id': 1, 'nombres': ['Juan', 'Antonio'], 'paterno': 'Garcia', 'materno': 'Perez', 'telefonos': {'casa': 5566778899, 'celular': 5544332211, 'trabajo': 5566223311}, 'activo': True, 'balance': 235568.78000000003, 'tarjetas': ({'tipo': 'debito', 'saldo': 12000}, {'tipo': 'credito', 'saldo': 3500.0})}\n",
            "{'id': 1, 'nombres': ['Juan', 'Antonio'], 'paterno': 'Garcia', 'materno': 'Perez', 'telefonos': {'casa': 5566778899, 'celular': 5544332211, 'trabajo': 5566223311}, 'activo': True, 'balance': 235568.78000000003, 'tarjetas': ({'tipo': 'debito', 'saldo': 12000}, {'tipo': 'credito', 'saldo': 3500.0}, {'tipo': 'credito', 'nivel': 'oro', 'saldo': 50000})}\n",
            "{'id': 1, 'nombres': ['Juan', 'Antonio'], 'paterno': 'Garcia', 'materno': 'Perez', 'telefonos': {'casa': 5566778899, 'celular': 5544332211, 'trabajo': 5566223311}, 'activo': True, 'balance': 235568.78000000003, 'tarjetas': ({'tipo': 'debito', 'saldo': 12000}, {'tipo': 'credito', 'saldo': 3500.0}, {'tipo': 'credito', 'nivel': 'oro', 'saldo': 50000}), 'direccion': {'calle': 'rancho seco', 'num': 23}}\n"
          ],
          "name": "stdout"
        }
      ]
    },
    {
      "cell_type": "code",
      "metadata": {
        "id": "bC82Z1KNdc4u",
        "outputId": "6ba2a739-94cc-4d04-b2fc-df51ad83fa7b",
        "colab": {
          "base_uri": "https://localhost:8080/",
          "height": 1000
        }
      },
      "source": [
        "llaves = cliente_banco.keys()\n",
        "print(llaves)\n",
        "print(type(llaves))\n",
        "for x in llaves:\n",
        "  print(x)\n",
        "\n",
        "valores = cliente_banco.values()\n",
        "for v in valores:\n",
        "  print(v)\n",
        "\n",
        "  pares = cliente_banco.items()\n",
        "  print(pares)\n",
        "  for elem in pares:\n",
        "    print(f\" {elem[0]} = {elem[1]} \")"
      ],
      "execution_count": 14,
      "outputs": [
        {
          "output_type": "stream",
          "text": [
            "dict_keys(['id', 'nombres', 'paterno', 'materno', 'telefonos', 'activo', 'balance', 'tarjetas', 'direccion'])\n",
            "<class 'dict_keys'>\n",
            "id\n",
            "nombres\n",
            "paterno\n",
            "materno\n",
            "telefonos\n",
            "activo\n",
            "balance\n",
            "tarjetas\n",
            "direccion\n",
            "1\n",
            "dict_items([('id', 1), ('nombres', ['Juan', 'Antonio']), ('paterno', 'Garcia'), ('materno', 'Perez'), ('telefonos', {'casa': 5566778899, 'celular': 5544332211, 'trabajo': 5566223311}), ('activo', True), ('balance', 235568.78000000003), ('tarjetas', ({'tipo': 'debito', 'saldo': 12000}, {'tipo': 'credito', 'saldo': 3500.0}, {'tipo': 'credito', 'nivel': 'oro', 'saldo': 50000})), ('direccion', {'calle': 'rancho seco', 'num': 23})])\n",
            " id = 1 \n",
            " nombres = ['Juan', 'Antonio'] \n",
            " paterno = Garcia \n",
            " materno = Perez \n",
            " telefonos = {'casa': 5566778899, 'celular': 5544332211, 'trabajo': 5566223311} \n",
            " activo = True \n",
            " balance = 235568.78000000003 \n",
            " tarjetas = ({'tipo': 'debito', 'saldo': 12000}, {'tipo': 'credito', 'saldo': 3500.0}, {'tipo': 'credito', 'nivel': 'oro', 'saldo': 50000}) \n",
            " direccion = {'calle': 'rancho seco', 'num': 23} \n",
            "['Juan', 'Antonio']\n",
            "dict_items([('id', 1), ('nombres', ['Juan', 'Antonio']), ('paterno', 'Garcia'), ('materno', 'Perez'), ('telefonos', {'casa': 5566778899, 'celular': 5544332211, 'trabajo': 5566223311}), ('activo', True), ('balance', 235568.78000000003), ('tarjetas', ({'tipo': 'debito', 'saldo': 12000}, {'tipo': 'credito', 'saldo': 3500.0}, {'tipo': 'credito', 'nivel': 'oro', 'saldo': 50000})), ('direccion', {'calle': 'rancho seco', 'num': 23})])\n",
            " id = 1 \n",
            " nombres = ['Juan', 'Antonio'] \n",
            " paterno = Garcia \n",
            " materno = Perez \n",
            " telefonos = {'casa': 5566778899, 'celular': 5544332211, 'trabajo': 5566223311} \n",
            " activo = True \n",
            " balance = 235568.78000000003 \n",
            " tarjetas = ({'tipo': 'debito', 'saldo': 12000}, {'tipo': 'credito', 'saldo': 3500.0}, {'tipo': 'credito', 'nivel': 'oro', 'saldo': 50000}) \n",
            " direccion = {'calle': 'rancho seco', 'num': 23} \n",
            "Garcia\n",
            "dict_items([('id', 1), ('nombres', ['Juan', 'Antonio']), ('paterno', 'Garcia'), ('materno', 'Perez'), ('telefonos', {'casa': 5566778899, 'celular': 5544332211, 'trabajo': 5566223311}), ('activo', True), ('balance', 235568.78000000003), ('tarjetas', ({'tipo': 'debito', 'saldo': 12000}, {'tipo': 'credito', 'saldo': 3500.0}, {'tipo': 'credito', 'nivel': 'oro', 'saldo': 50000})), ('direccion', {'calle': 'rancho seco', 'num': 23})])\n",
            " id = 1 \n",
            " nombres = ['Juan', 'Antonio'] \n",
            " paterno = Garcia \n",
            " materno = Perez \n",
            " telefonos = {'casa': 5566778899, 'celular': 5544332211, 'trabajo': 5566223311} \n",
            " activo = True \n",
            " balance = 235568.78000000003 \n",
            " tarjetas = ({'tipo': 'debito', 'saldo': 12000}, {'tipo': 'credito', 'saldo': 3500.0}, {'tipo': 'credito', 'nivel': 'oro', 'saldo': 50000}) \n",
            " direccion = {'calle': 'rancho seco', 'num': 23} \n",
            "Perez\n",
            "dict_items([('id', 1), ('nombres', ['Juan', 'Antonio']), ('paterno', 'Garcia'), ('materno', 'Perez'), ('telefonos', {'casa': 5566778899, 'celular': 5544332211, 'trabajo': 5566223311}), ('activo', True), ('balance', 235568.78000000003), ('tarjetas', ({'tipo': 'debito', 'saldo': 12000}, {'tipo': 'credito', 'saldo': 3500.0}, {'tipo': 'credito', 'nivel': 'oro', 'saldo': 50000})), ('direccion', {'calle': 'rancho seco', 'num': 23})])\n",
            " id = 1 \n",
            " nombres = ['Juan', 'Antonio'] \n",
            " paterno = Garcia \n",
            " materno = Perez \n",
            " telefonos = {'casa': 5566778899, 'celular': 5544332211, 'trabajo': 5566223311} \n",
            " activo = True \n",
            " balance = 235568.78000000003 \n",
            " tarjetas = ({'tipo': 'debito', 'saldo': 12000}, {'tipo': 'credito', 'saldo': 3500.0}, {'tipo': 'credito', 'nivel': 'oro', 'saldo': 50000}) \n",
            " direccion = {'calle': 'rancho seco', 'num': 23} \n",
            "{'casa': 5566778899, 'celular': 5544332211, 'trabajo': 5566223311}\n",
            "dict_items([('id', 1), ('nombres', ['Juan', 'Antonio']), ('paterno', 'Garcia'), ('materno', 'Perez'), ('telefonos', {'casa': 5566778899, 'celular': 5544332211, 'trabajo': 5566223311}), ('activo', True), ('balance', 235568.78000000003), ('tarjetas', ({'tipo': 'debito', 'saldo': 12000}, {'tipo': 'credito', 'saldo': 3500.0}, {'tipo': 'credito', 'nivel': 'oro', 'saldo': 50000})), ('direccion', {'calle': 'rancho seco', 'num': 23})])\n",
            " id = 1 \n",
            " nombres = ['Juan', 'Antonio'] \n",
            " paterno = Garcia \n",
            " materno = Perez \n",
            " telefonos = {'casa': 5566778899, 'celular': 5544332211, 'trabajo': 5566223311} \n",
            " activo = True \n",
            " balance = 235568.78000000003 \n",
            " tarjetas = ({'tipo': 'debito', 'saldo': 12000}, {'tipo': 'credito', 'saldo': 3500.0}, {'tipo': 'credito', 'nivel': 'oro', 'saldo': 50000}) \n",
            " direccion = {'calle': 'rancho seco', 'num': 23} \n",
            "True\n",
            "dict_items([('id', 1), ('nombres', ['Juan', 'Antonio']), ('paterno', 'Garcia'), ('materno', 'Perez'), ('telefonos', {'casa': 5566778899, 'celular': 5544332211, 'trabajo': 5566223311}), ('activo', True), ('balance', 235568.78000000003), ('tarjetas', ({'tipo': 'debito', 'saldo': 12000}, {'tipo': 'credito', 'saldo': 3500.0}, {'tipo': 'credito', 'nivel': 'oro', 'saldo': 50000})), ('direccion', {'calle': 'rancho seco', 'num': 23})])\n",
            " id = 1 \n",
            " nombres = ['Juan', 'Antonio'] \n",
            " paterno = Garcia \n",
            " materno = Perez \n",
            " telefonos = {'casa': 5566778899, 'celular': 5544332211, 'trabajo': 5566223311} \n",
            " activo = True \n",
            " balance = 235568.78000000003 \n",
            " tarjetas = ({'tipo': 'debito', 'saldo': 12000}, {'tipo': 'credito', 'saldo': 3500.0}, {'tipo': 'credito', 'nivel': 'oro', 'saldo': 50000}) \n",
            " direccion = {'calle': 'rancho seco', 'num': 23} \n",
            "235568.78000000003\n",
            "dict_items([('id', 1), ('nombres', ['Juan', 'Antonio']), ('paterno', 'Garcia'), ('materno', 'Perez'), ('telefonos', {'casa': 5566778899, 'celular': 5544332211, 'trabajo': 5566223311}), ('activo', True), ('balance', 235568.78000000003), ('tarjetas', ({'tipo': 'debito', 'saldo': 12000}, {'tipo': 'credito', 'saldo': 3500.0}, {'tipo': 'credito', 'nivel': 'oro', 'saldo': 50000})), ('direccion', {'calle': 'rancho seco', 'num': 23})])\n",
            " id = 1 \n",
            " nombres = ['Juan', 'Antonio'] \n",
            " paterno = Garcia \n",
            " materno = Perez \n",
            " telefonos = {'casa': 5566778899, 'celular': 5544332211, 'trabajo': 5566223311} \n",
            " activo = True \n",
            " balance = 235568.78000000003 \n",
            " tarjetas = ({'tipo': 'debito', 'saldo': 12000}, {'tipo': 'credito', 'saldo': 3500.0}, {'tipo': 'credito', 'nivel': 'oro', 'saldo': 50000}) \n",
            " direccion = {'calle': 'rancho seco', 'num': 23} \n",
            "({'tipo': 'debito', 'saldo': 12000}, {'tipo': 'credito', 'saldo': 3500.0}, {'tipo': 'credito', 'nivel': 'oro', 'saldo': 50000})\n",
            "dict_items([('id', 1), ('nombres', ['Juan', 'Antonio']), ('paterno', 'Garcia'), ('materno', 'Perez'), ('telefonos', {'casa': 5566778899, 'celular': 5544332211, 'trabajo': 5566223311}), ('activo', True), ('balance', 235568.78000000003), ('tarjetas', ({'tipo': 'debito', 'saldo': 12000}, {'tipo': 'credito', 'saldo': 3500.0}, {'tipo': 'credito', 'nivel': 'oro', 'saldo': 50000})), ('direccion', {'calle': 'rancho seco', 'num': 23})])\n",
            " id = 1 \n",
            " nombres = ['Juan', 'Antonio'] \n",
            " paterno = Garcia \n",
            " materno = Perez \n",
            " telefonos = {'casa': 5566778899, 'celular': 5544332211, 'trabajo': 5566223311} \n",
            " activo = True \n",
            " balance = 235568.78000000003 \n",
            " tarjetas = ({'tipo': 'debito', 'saldo': 12000}, {'tipo': 'credito', 'saldo': 3500.0}, {'tipo': 'credito', 'nivel': 'oro', 'saldo': 50000}) \n",
            " direccion = {'calle': 'rancho seco', 'num': 23} \n",
            "{'calle': 'rancho seco', 'num': 23}\n",
            "dict_items([('id', 1), ('nombres', ['Juan', 'Antonio']), ('paterno', 'Garcia'), ('materno', 'Perez'), ('telefonos', {'casa': 5566778899, 'celular': 5544332211, 'trabajo': 5566223311}), ('activo', True), ('balance', 235568.78000000003), ('tarjetas', ({'tipo': 'debito', 'saldo': 12000}, {'tipo': 'credito', 'saldo': 3500.0}, {'tipo': 'credito', 'nivel': 'oro', 'saldo': 50000})), ('direccion', {'calle': 'rancho seco', 'num': 23})])\n",
            " id = 1 \n",
            " nombres = ['Juan', 'Antonio'] \n",
            " paterno = Garcia \n",
            " materno = Perez \n",
            " telefonos = {'casa': 5566778899, 'celular': 5544332211, 'trabajo': 5566223311} \n",
            " activo = True \n",
            " balance = 235568.78000000003 \n",
            " tarjetas = ({'tipo': 'debito', 'saldo': 12000}, {'tipo': 'credito', 'saldo': 3500.0}, {'tipo': 'credito', 'nivel': 'oro', 'saldo': 50000}) \n",
            " direccion = {'calle': 'rancho seco', 'num': 23} \n"
          ],
          "name": "stdout"
        }
      ]
    },
    {
      "cell_type": "code",
      "metadata": {
        "id": "nJ97GxUdg-fk",
        "outputId": "c59d3fa8-ca8d-4310-ab0a-d04a8781d3d5",
        "colab": {
          "base_uri": "https://localhost:8080/",
          "height": 34
        }
      },
      "source": [
        "frutas = {\"nombre\" : \"manzana\", \"color\" : \"rojo\", \"estado\" : \"chihuahua\"}\n",
        "otras_caracteristicas = {\"vitamina\" : \"D\"}\n",
        "frutas.update(otras_caracteristicas)\n",
        "print(frutas)"
      ],
      "execution_count": 16,
      "outputs": [
        {
          "output_type": "stream",
          "text": [
            "{'nombre': 'manzana', 'color': 'rojo', 'estado': 'chihuahua', 'vitamina': 'D'}\n"
          ],
          "name": "stdout"
        }
      ]
    },
    {
      "cell_type": "markdown",
      "metadata": {
        "id": "3mIMu4xziPre"
      },
      "source": [
        "# Funciones\n",
        "- recibe de cero a n argumentos de entrada. \n",
        "- regresa solo un valor, aunque ese valor sea None.\n",
        "- tiene un nombre unico en el contexto.\n",
        "-se pueden hacer solo dos cosas con funciones\n",
        "  - definirla\n",
        "  - llamarla"
      ]
    },
    {
      "cell_type": "code",
      "metadata": {
        "id": "Mhe3lVG0i-DB",
        "outputId": "733cb3ae-3f48-421d-cbed-fe3703a4e272",
        "colab": {
          "base_uri": "https://localhost:8080/",
          "height": 51
        }
      },
      "source": [
        "def suma(a,b):\n",
        "    return a + b\n",
        "\n",
        "def saludar():\n",
        "    print(\"Hola, ¿como estas?\")\n",
        "    return None\n",
        "\n",
        "x = 10\n",
        "y = 20\n",
        "c = suma(x,y)\n",
        "\n",
        "print(c)\n",
        "saludar()\n"
      ],
      "execution_count": 20,
      "outputs": [
        {
          "output_type": "stream",
          "text": [
            "30\n",
            "Hola, ¿como estas?\n"
          ],
          "name": "stdout"
        }
      ]
    },
    {
      "cell_type": "markdown",
      "metadata": {
        "id": "oI6IyIFIkxnd"
      },
      "source": [
        "# None y las funciones\n",
        "Aprovechar el uso de none en paso de parametros"
      ]
    },
    {
      "cell_type": "code",
      "metadata": {
        "id": "z_MGI3y4k9XP",
        "outputId": "0aa166a7-e260-42b9-bae4-2d0e97d2cbb4",
        "colab": {
          "base_uri": "https://localhost:8080/",
          "height": 51
        }
      },
      "source": [
        "def calcular(base, veces):\n",
        "    if base != None:\n",
        "        resultado = base*veces\n",
        "    else:\n",
        "        resultado = \"desconocido\"\n",
        "    return resultado\n",
        "\n",
        "print(calcular(4,3))\n",
        "print(calcular(None, 3))"
      ],
      "execution_count": 22,
      "outputs": [
        {
          "output_type": "stream",
          "text": [
            "12\n",
            "desconocido\n"
          ],
          "name": "stdout"
        }
      ]
    }
  ]
}