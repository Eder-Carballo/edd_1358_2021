{
  "nbformat": 4,
  "nbformat_minor": 0,
  "metadata": {
    "colab": {
      "name": "14_octubre_.ipynb",
      "provenance": [],
      "authorship_tag": "ABX9TyP+CUh9cdZIhggxIvyHm4Yw",
      "include_colab_link": true
    },
    "kernelspec": {
      "name": "python3",
      "display_name": "Python 3"
    }
  },
  "cells": [
    {
      "cell_type": "markdown",
      "metadata": {
        "id": "view-in-github",
        "colab_type": "text"
      },
      "source": [
        "<a href=\"https://colab.research.google.com/github/Eder-Carballo/edd_1358_2021/blob/master/14_octubre_1358.ipynb\" target=\"_parent\"><img src=\"https://colab.research.google.com/assets/colab-badge.svg\" alt=\"Open In Colab\"/></a>"
      ]
    },
    {
      "cell_type": "code",
      "metadata": {
        "id": "FcEGJfHCoVPl",
        "outputId": "6706f73e-dc84-4de9-89f5-40ab133cd337",
        "colab": {
          "base_uri": "https://localhost:8080/",
          "height": 85
        }
      },
      "source": [
        "def  calcular (a, b, c):\n",
        "    x = a + (b/c)\n",
        "    return x\n",
        "\n",
        "print(calcular(5, 9, 3))\n",
        "print(calcular(5, 3, 9))\n",
        "print(calcular(a = 5, c = 3, b =9))\n",
        "\n",
        "def calcular_v2 (a = 10, b = 20, c = 5):\n",
        "    x = a + (b/c)\n",
        "    return x\n",
        "\n",
        "print(calcular_v2(c = 2, a = 40, b = 8))"
      ],
      "execution_count": 25,
      "outputs": [
        {
          "output_type": "stream",
          "text": [
            "8.0\n",
            "5.333333333333333\n",
            "8.0\n",
            "44.0\n"
          ],
          "name": "stdout"
        }
      ]
    },
    {
      "cell_type": "markdown",
      "metadata": {
        "id": "E9TdBBSLrwhZ"
      },
      "source": [
        "# argumentos a funciones por tupla *\n",
        "Se envian los argumentos en un conjunto de elementos dentro dr una tupla"
      ]
    },
    {
      "cell_type": "code",
      "metadata": {
        "id": "xJzOxWG8r54w",
        "outputId": "a2bb41ed-d845-4954-e498-2518c1a65cea",
        "colab": {
          "base_uri": "https://localhost:8080/",
          "height": 34
        }
      },
      "source": [
        "def calculo(*elem):\n",
        "    x = elem[0] + (elem[1] / elem[2])\n",
        "    return x\n",
        "\n",
        "print(calculo(5,9,3))"
      ],
      "execution_count": 23,
      "outputs": [
        {
          "output_type": "stream",
          "text": [
            "8.0\n"
          ],
          "name": "stdout"
        }
      ]
    },
    {
      "cell_type": "markdown",
      "metadata": {
        "id": "2UqYNJPys1j2"
      },
      "source": [
        "#Argumentos como diccionario**"
      ]
    },
    {
      "cell_type": "code",
      "metadata": {
        "id": "Vy7MzFgzs8Ut",
        "outputId": "49cdf741-fada-4647-def8-5bec05401d3f",
        "colab": {
          "base_uri": "https://localhost:8080/",
          "height": 51
        }
      },
      "source": [
        "def calculo(**elem):\n",
        "    print(elem)\n",
        "    x = elem['a'] + (elem['b'] / elem['c'])\n",
        "    return x \n",
        "\n",
        "print(calculo(a = 5, b = 9, c = 3))"
      ],
      "execution_count": 24,
      "outputs": [
        {
          "output_type": "stream",
          "text": [
            "{'a': 5, 'b': 9, 'c': 3}\n",
            "8.0\n"
          ],
          "name": "stdout"
        }
      ]
    },
    {
      "cell_type": "markdown",
      "metadata": {
        "id": "6xH9OlDF2zcj"
      },
      "source": [
        "# archivos\n",
        "- abrirlos\n",
        "    - un str con la ruta del archivo\n",
        "    - dos caracteres: 1 modo apertura (r,w) y el 2 formato (texto o binario)\n",
        "-leerlos\n",
        "- modificarlos"
      ]
    },
    {
      "cell_type": "code",
      "metadata": {
        "id": "cHuCmmwn29Rg"
      },
      "source": [
        "archivo = open ('ejemplo.txt', 'wt')\n",
        "archivo.write(\"Hola mundo de archivos\")\n",
        "archivo.close()"
      ],
      "execution_count": 27,
      "outputs": []
    },
    {
      "cell_type": "code",
      "metadata": {
        "id": "4b5ELurm4YL7",
        "outputId": "c7f7f8e6-d0cf-414e-b0bb-a0394cc06600",
        "colab": {
          "base_uri": "https://localhost:8080/",
          "height": 34
        }
      },
      "source": [
        "cat ejemplo.txt"
      ],
      "execution_count": 28,
      "outputs": [
        {
          "output_type": "stream",
          "text": [
            "Hola mundo de archivos"
          ],
          "name": "stdout"
        }
      ]
    },
    {
      "cell_type": "code",
      "metadata": {
        "id": "CXc1Iphi6CEV"
      },
      "source": [
        "!(cat ejemplo.txt > otra.txt)"
      ],
      "execution_count": 29,
      "outputs": []
    }
  ]
}