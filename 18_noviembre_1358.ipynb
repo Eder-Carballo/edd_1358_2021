{
  "nbformat": 4,
  "nbformat_minor": 0,
  "metadata": {
    "colab": {
      "name": "18_noviembre_1358.ipynb",
      "provenance": [],
      "authorship_tag": "ABX9TyNeZX3Vv46CVXaDQgd1Dt/0",
      "include_colab_link": true
    },
    "kernelspec": {
      "name": "python3",
      "display_name": "Python 3"
    }
  },
  "cells": [
    {
      "cell_type": "markdown",
      "metadata": {
        "id": "view-in-github",
        "colab_type": "text"
      },
      "source": [
        "<a href=\"https://colab.research.google.com/github/Eder-Carballo/edd_1358_2021/blob/master/18_noviembre_1358.ipynb\" target=\"_parent\"><img src=\"https://colab.research.google.com/assets/colab-badge.svg\" alt=\"Open In Colab\"/></a>"
      ]
    },
    {
      "cell_type": "code",
      "metadata": {
        "colab": {
          "base_uri": "https://localhost:8080/"
        },
        "id": "l-SgRc_JDtMz",
        "outputId": "94589c57-7882-4e8e-9361-bdc1797a7774"
      },
      "source": [
        "#codigo del 18 de noviembre\n",
        "class Nodo:\n",
        "\n",
        "    def __init__(self , dato , siguiente=None ):\n",
        "        self.dato = dato\n",
        "        self.siguiente = siguiente\n",
        "\n",
        "head = Nodo ( 10 , Nodo( 20 , Nodo ( 30 , Nodo( 40 , Nodo( 50) ) ) ) )\n",
        "\n",
        "#Recorrido transversal\n",
        "curr_node = head \n",
        "print(curr_node.dato , \"-->\" , end =\"\" )\n",
        "while( curr_node.siguiente != None ):\n",
        "    curr_node = curr_node.siguiente\n",
        "    print(curr_node.dato ,\"-->\" , end =\"\" )\n",
        "print(\"\")\n",
        "\n",
        "\n",
        "#incertar el nodo 35 despues de 30\n",
        "anterior = head.siguiente.siguiente\n",
        "print(anterior.dato)\n",
        "nuevo = Nodo( 35 )\n",
        "nuevo.siguiente = anterior.siguiente\n",
        "print(nuevo.siguiente.dato)\n",
        "anterior.siguiente = nuevo\n",
        "\n",
        "#Recorrido transversal\n",
        "curr_node = head \n",
        "print(curr_node.dato , \"-->\" , end =\"\" )\n",
        "while( curr_node.siguiente != None ):\n",
        "    curr_node = curr_node.siguiente\n",
        "    print(curr_node.dato ,\"-->\" , end =\"\" )\n",
        "print(\"\")\n",
        "\n",
        "#eliminar el nodo 20 \n",
        "head.siguiente = head.siguiente.siguiente\n",
        "\n",
        "#Recorrido transversal\n",
        "curr_node = head \n",
        "print(curr_node.dato , \"-->\" , end =\"\" )\n",
        "while( curr_node.siguiente != None ):\n",
        "    curr_node = curr_node.siguiente\n",
        "    print(curr_node.dato ,\"-->\" , end =\"\" )\n",
        "print(\"\")"
      ],
      "execution_count": 3,
      "outputs": [
        {
          "output_type": "stream",
          "text": [
            "10 -->20 -->30 -->40 -->50 -->\n",
            "30\n",
            "40\n",
            "10 -->20 -->30 -->35 -->40 -->50 -->\n",
            "10 -->30 -->35 -->40 -->50 -->\n"
          ],
          "name": "stdout"
        }
      ]
    },
    {
      "cell_type": "code",
      "metadata": {
        "id": "ylHBAM4hVQyI"
      },
      "source": [
        "class Nodo:\n",
        "\n",
        "    def __init__(self , dato , siguiente=None ):\n",
        "        self.dato = dato\n",
        "        self.siguiente = siguiente\n",
        "\n",
        "class LinkedList:\n",
        "    \n",
        "    def __init__( self ):\n",
        "        self.__head = None\n",
        "\n",
        "    def is_empty( self ):\n",
        "        return self.__head == None\n",
        "\n",
        "    "
      ],
      "execution_count": null,
      "outputs": []
    }
  ]
}