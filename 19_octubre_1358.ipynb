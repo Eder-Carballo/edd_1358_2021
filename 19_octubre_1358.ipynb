{
  "nbformat": 4,
  "nbformat_minor": 0,
  "metadata": {
    "colab": {
      "name": "19_octubre_1358.ipynb",
      "provenance": [],
      "collapsed_sections": [],
      "toc_visible": true,
      "authorship_tag": "ABX9TyNaj9govLHcvw/iWKR6AYFe",
      "include_colab_link": true
    },
    "kernelspec": {
      "name": "python3",
      "display_name": "Python 3"
    }
  },
  "cells": [
    {
      "cell_type": "markdown",
      "metadata": {
        "id": "view-in-github",
        "colab_type": "text"
      },
      "source": [
        "<a href=\"https://colab.research.google.com/github/Eder-Carballo/edd_1358_2021/blob/master/19_octubre_1358.ipynb\" target=\"_parent\"><img src=\"https://colab.research.google.com/assets/colab-badge.svg\" alt=\"Open In Colab\"/></a>"
      ]
    },
    {
      "cell_type": "code",
      "metadata": {
        "id": "6MEN4gyhYS_Z",
        "outputId": "eaabd4af-0e12-4a85-cb63-c7d0bbc4630d",
        "colab": {
          "base_uri": "https://localhost:8080/",
          "height": 68
        }
      },
      "source": [
        "# read()\n",
        "archivo = open('frutas.txt','rt')\n",
        "\n",
        "data = archivo.read()\n",
        "# upper() \"mayusculas\"\n",
        "print(data.upper())\n",
        "\n",
        "archivo.close()\n"
      ],
      "execution_count": 5,
      "outputs": [
        {
          "output_type": "stream",
          "text": [
            "LIMON, AGUACATE, FRESA, MANZANA\n",
            "CIRUELA, CAPULIN, NARANJA\n",
            "PERA, KIWI\n"
          ],
          "name": "stdout"
        }
      ]
    },
    {
      "cell_type": "code",
      "metadata": {
        "id": "kYMcQc9neCiL",
        "outputId": "a2fbdee7-639b-4579-9ae8-9cbe0ac8c49b",
        "colab": {
          "base_uri": "https://localhost:8080/",
          "height": 102
        }
      },
      "source": [
        "\n",
        "#readline() lee una sola linea\n",
        "archivo = open('frutas.txt','rt')\n",
        "\n",
        "data = archivo.readline()\n",
        "while data != \"\":\n",
        "    print(data)\n",
        "    data = archivo.readline()\n",
        "\n",
        "archivo.close()\n",
        "\n"
      ],
      "execution_count": 9,
      "outputs": [
        {
          "output_type": "stream",
          "text": [
            "limon, aguacate, fresa, manzana\n",
            "\n",
            "ciruela, capulin, naranja\n",
            "\n",
            "pera, kiwi\n"
          ],
          "name": "stdout"
        }
      ]
    },
    {
      "cell_type": "code",
      "metadata": {
        "id": "ZiNA75wrgDwf",
        "outputId": "bfe2006c-5a4d-49e0-b62c-f66c0d22eb56",
        "colab": {
          "base_uri": "https://localhost:8080/",
          "height": 51
        }
      },
      "source": [
        "#readlines() regresa un arreglo (un elemento por linea)\n",
        "archivo = open('frutas.txt','rt')\n",
        "\n",
        "data = archivo.readlines()\n",
        "\n",
        "print(data)\n",
        "\n",
        "frutas = []\n",
        "\n",
        "for linea in data:\n",
        "    frutas.append(linea.strip())\n",
        "\n",
        "frutas_final = []\n",
        "for elem in frutas:\n",
        "    for fruta in elem.split(','):\n",
        "        frutas_final.append(fruta.strip())\n",
        "\n",
        "print(frutas_final)\n",
        "archivo.close()\n"
      ],
      "execution_count": 15,
      "outputs": [
        {
          "output_type": "stream",
          "text": [
            "['limon, aguacate, fresa, manzana\\n', 'ciruela, capulin, naranja\\n', 'pera, kiwi']\n",
            "['limon', 'aguacate', 'fresa', 'manzana', 'ciruela', 'capulin', 'naranja', 'pera', 'kiwi']\n"
          ],
          "name": "stdout"
        }
      ]
    },
    {
      "cell_type": "markdown",
      "metadata": {
        "id": "3uzxWQOSlCrB"
      },
      "source": [
        "# POO con python\n",
        "- clase\n",
        "- objetos\n",
        "- atributos\n",
        "- metodos\n",
        "- metodo constructor\n",
        "- encapsulamiento (publico y privado)\n",
        "- herencia\n",
        "\n",
        "Declarar clases en python se usa la \n",
        "palabra reservada class"
      ]
    },
    {
      "cell_type": "code",
      "metadata": {
        "id": "ceFw3wqYlqxs",
        "outputId": "65ed68c7-f966-4d58-8f5e-82ba07d81e4a",
        "colab": {
          "base_uri": "https://localhost:8080/",
          "height": 51
        }
      },
      "source": [
        "class Persona: #clase\n",
        "    def __init__( self, edd, est ): #contructor\n",
        "        self.__edad = edd\n",
        "        self.__estatura = est\n",
        "\n",
        "    def to_string( self ): #metodos\n",
        "        print(f\"Edad = {self.__edad}, estatura = {self.__estatura}\")\n",
        "\n",
        "per1 = Persona(23,1.78)\n",
        "per1.to_string()\n",
        "per1.__estatura = 10.4\n",
        "per1.to_string()\n"
      ],
      "execution_count": 23,
      "outputs": [
        {
          "output_type": "stream",
          "text": [
            "Edad = 23, estatura = 1.78\n",
            "Edad = 23, estatura = 1.78\n"
          ],
          "name": "stdout"
        }
      ]
    }
  ]
}