{
  "nbformat": 4,
  "nbformat_minor": 0,
  "metadata": {
    "colab": {
      "name": "21_octubre_1358.ipynb",
      "provenance": [],
      "authorship_tag": "ABX9TyMKw5efg/qFfSipqBwjb2V0",
      "include_colab_link": true
    },
    "kernelspec": {
      "name": "python3",
      "display_name": "Python 3"
    }
  },
  "cells": [
    {
      "cell_type": "markdown",
      "metadata": {
        "id": "view-in-github",
        "colab_type": "text"
      },
      "source": [
        "<a href=\"https://colab.research.google.com/github/Eder-Carballo/edd_1358_2021/blob/master/21_octubre_1358.ipynb\" target=\"_parent\"><img src=\"https://colab.research.google.com/assets/colab-badge.svg\" alt=\"Open In Colab\"/></a>"
      ]
    },
    {
      "cell_type": "code",
      "metadata": {
        "id": "C8tkOp-BtI3u",
        "outputId": "d7b6abf5-486a-45d0-fb72-7b540a994ac1",
        "colab": {
          "base_uri": "https://localhost:8080/",
          "height": 68
        }
      },
      "source": [
        "#Encapsulamiento tradicional\n",
        "class SmartPhone:\n",
        "    def __init__( self , m):\n",
        "        self.__marca = m\n",
        "\n",
        "    def set_marca( self , m):\n",
        "        self.__marca = m\n",
        "\n",
        "    def get_marca( self ):\n",
        "        return self.__marca\n",
        "\n",
        "    def to_string( self ):\n",
        "        return \"La marca del telefono es: \" + self.__marca\n",
        "\n",
        "sp1 = SmartPhone (\"Huawei\")\n",
        "print(sp1.to_string())\n",
        "sp1.__marca = \"iPhone X\"\n",
        "print(sp1.to_string())\n",
        "sp1.set_marca(\"Samsung\")\n",
        "print(sp1.to_string())\n"
      ],
      "execution_count": 6,
      "outputs": [
        {
          "output_type": "stream",
          "text": [
            "La marca del telefono es: Huawei\n",
            "La marca del telefono es: Huawei\n",
            "La marca del telefono es: Samsung\n"
          ],
          "name": "stdout"
        }
      ]
    },
    {
      "cell_type": "code",
      "metadata": {
        "id": "oP_TeaP-xbGL",
        "outputId": "ed992f30-827a-40dc-82a6-c3ec46b91933",
        "colab": {
          "base_uri": "https://localhost:8080/",
          "height": 119
        }
      },
      "source": [
        "#estilo python 3\n",
        "class SmartPhone:\n",
        "    def __init__( self , m):\n",
        "        self.marca = m #1 llamando al metodo get\n",
        "\n",
        "    @property\n",
        "    def marca( self ): #define el metodo get y declara self.__marca y lo hace privado\n",
        "        #print(\"En el metodo get de marca\")\n",
        "        return self.__marca\n",
        "\n",
        "    @marca.setter\n",
        "    def marca( self , m):\n",
        "        if m in [\"Lenovo\", \"Sony\", \"Motorola\", \"iPhone SE\", \"Huawei\", \"Xiaomi\"]:\n",
        "            self.__marca = m\n",
        "        else:\n",
        "            print(\"Asignacion no valida\")\n",
        "\n",
        "    def to_string( self ):\n",
        "        return \"Marca = \" + self.marca\n",
        "\n",
        "sp2 = SmartPhone(\"Xiaomi\")\n",
        "print(sp2.to_string())\n",
        "sp2.__marca = \"iPhone SE\"\n",
        "print(sp2.to_string())\n",
        "sp2.marca = \"Motorola\" #metodo set\n",
        "print(sp2.to_string())\n",
        "\n",
        "print(sp2.marca) # metodo get\n",
        "sp2.marca = \"ddfhjgjhf\"\n",
        "print(sp2.to_string())\n"
      ],
      "execution_count": 14,
      "outputs": [
        {
          "output_type": "stream",
          "text": [
            "Marca = Xiaomi\n",
            "Marca = Xiaomi\n",
            "Marca = Motorola\n",
            "Motorola\n",
            "Asignacion no valida\n",
            "Marca = Motorola\n"
          ],
          "name": "stdout"
        }
      ]
    },
    {
      "cell_type": "code",
      "metadata": {
        "id": "kjDyvzyO5FnC",
        "outputId": "ea4fb6ae-26cc-42a2-e6bc-f922e65ac7b8",
        "colab": {
          "base_uri": "https://localhost:8080/",
          "height": 71
        }
      },
      "source": [
        "class TelefonoTrabajo(SmartPhone):\n",
        "    def __init__( self , m):\n",
        "        self.marca = m\n",
        "\n",
        "sp3 = TelefonoTrabajo(\"Motorola\")\n",
        "print(dir(sp3))\n",
        "print(sp3.to_string())"
      ],
      "execution_count": 17,
      "outputs": [
        {
          "output_type": "stream",
          "text": [
            "['_SmartPhone__marca', '__class__', '__delattr__', '__dict__', '__dir__', '__doc__', '__eq__', '__format__', '__ge__', '__getattribute__', '__gt__', '__hash__', '__init__', '__init_subclass__', '__le__', '__lt__', '__module__', '__ne__', '__new__', '__reduce__', '__reduce_ex__', '__repr__', '__setattr__', '__sizeof__', '__str__', '__subclasshook__', '__weakref__', 'marca', 'to_string']\n",
            "Marca = Motorola\n"
          ],
          "name": "stdout"
        }
      ]
    }
  ]
}