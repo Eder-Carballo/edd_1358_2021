{
  "nbformat": 4,
  "nbformat_minor": 0,
  "metadata": {
    "colab": {
      "name": "22_enero_1358.ipynb",
      "provenance": [],
      "collapsed_sections": [],
      "authorship_tag": "ABX9TyMKkAv/SUfJkecvthpjrnDI",
      "include_colab_link": true
    },
    "kernelspec": {
      "name": "python3",
      "display_name": "Python 3"
    }
  },
  "cells": [
    {
      "cell_type": "markdown",
      "metadata": {
        "id": "view-in-github",
        "colab_type": "text"
      },
      "source": [
        "<a href=\"https://colab.research.google.com/github/Eder-Carballo/edd_1358_2021/blob/master/22_enero_1358.ipynb\" target=\"_parent\"><img src=\"https://colab.research.google.com/assets/colab-badge.svg\" alt=\"Open In Colab\"/></a>"
      ]
    },
    {
      "cell_type": "code",
      "metadata": {
        "id": "XzU3xE9fzMEt"
      },
      "source": [
        "class NodoArbol:\r\n",
        "    def __init__( self , value , left=None , right=None):\r\n",
        "        self.data = value\r\n",
        "        self.left = left\r\n",
        "        self.right = right"
      ],
      "execution_count": 45,
      "outputs": []
    },
    {
      "cell_type": "code",
      "metadata": {
        "id": "h9CUI0YW3s8b"
      },
      "source": [
        "class ArbolBinarioBusqueda:\r\n",
        "    def __init__( self ):\r\n",
        "        self.__root = None\r\n",
        "\r\n",
        "    def insert( self , value ):\r\n",
        "        if self.__root == None:\r\n",
        "            self.__root = NodoArbol( value )\r\n",
        "        else:\r\n",
        "            self.__insert__( self.__root , value )\r\n",
        "\r\n",
        "    def __insert__( self , nodo , value ): #recursividad \r\n",
        "        if nodo.data == value:\r\n",
        "            print(\"El nodo ya existe, no se inserta: \" , value)\r\n",
        "        elif value < nodo.data:\r\n",
        "            #ir a la izq\r\n",
        "            if nodo.left == None:\r\n",
        "                nodo.left = NodoArbol( value )\r\n",
        "            else:\r\n",
        "                self.__insert__( nodo.left , value)\r\n",
        "        else:\r\n",
        "            #ir a la derecha\r\n",
        "            if nodo.right == None:\r\n",
        "                nodo.right = NodoArbol( value )\r\n",
        "            else:\r\n",
        "                self.__insert__( nodo.right , value )\r\n",
        "\r\n",
        "    def transversal( self , format=\"in\" ):\r\n",
        "        if format == \"in\":\r\n",
        "            print(\"\\nRecorrido in orden\")\r\n",
        "            self.__recorrido_in(self.__root)\r\n",
        "        elif format == \"pre\":\r\n",
        "            print(\"\\nRecorrido pre orden\")\r\n",
        "            self.__recorrido_pre(self.__root)\r\n",
        "        elif format == \"pos\":\r\n",
        "            print(\"\\nRecorrido pos orden\")\r\n",
        "            self.__recorrido_pos(self.__root)\r\n",
        "        else:\r\n",
        "            print(\"\\nFormato no valido\")\r\n",
        "\r\n",
        "    def __recorrido_in( self , nodo):\r\n",
        "        if nodo == None:\r\n",
        "            #print(\"Caso base\")\r\n",
        "            pass\r\n",
        "        else:\r\n",
        "            self.__recorrido_in(nodo.left)\r\n",
        "            print(nodo.data , end=\",\")\r\n",
        "            self.__recorrido_in(nodo.right)\r\n",
        "\r\n",
        "    def __recorrido_pos( self , nodo ):\r\n",
        "        if nodo == None:\r\n",
        "            #print(\"Caso base\")\r\n",
        "            pass\r\n",
        "        else:\r\n",
        "            self.__recorrido_pos( nodo.left )\r\n",
        "            self.__recorrido_pos( nodo.right )  \r\n",
        "            print(nodo.data , end=\",\")  \r\n",
        "    def __recorrido_pre( self , nodo ):\r\n",
        "        if nodo == None:\r\n",
        "            #print(\"Caso base\")\r\n",
        "            pass\r\n",
        "        else:\r\n",
        "            print(nodo.data , end=\",\")\r\n",
        "            self.__recorrido_pre( nodo.left )\r\n",
        "            self.__recorrido_pre( nodo.right )\r\n",
        "\r\n",
        "    def search( self , value):\r\n",
        "        if self.__root == None:\r\n",
        "            print(\"Arbol vacio\")\r\n",
        "        else: \r\n",
        "            return self.__search( self.__root ,value )\r\n",
        "\r\n",
        "    def __search( self , nodo , value ):\r\n",
        "        if nodo == None:\r\n",
        "            return None\r\n",
        "        elif nodo.data == value:\r\n",
        "            return nodo \r\n",
        "        elif value < nodo.data:\r\n",
        "            print(\"Ir a la izquierda\")\r\n",
        "            return self.__search (nodo.left , value )\r\n",
        "        else:\r\n",
        "            print(\"Ir a la derecha\")\r\n",
        "            return self.__search (nodo.right , value ) "
      ],
      "execution_count": 46,
      "outputs": []
    },
    {
      "cell_type": "code",
      "metadata": {
        "colab": {
          "base_uri": "https://localhost:8080/"
        },
        "id": "8JLcC8Cl3z-7",
        "outputId": "5e24ffdb-fa98-443f-8746-2035dcf4d57d"
      },
      "source": [
        "abb = ArbolBinarioBusqueda()\r\n",
        "abb.insert( 50 )\r\n",
        "abb.insert( 30 )\r\n",
        "abb.insert( 60 )\r\n",
        "abb.insert( 35 )\r\n",
        "abb.insert( 89 )\r\n",
        "abb.insert( 70 )\r\n",
        "abb.insert( 1 )\r\n",
        "abb.transversal(\"in\")\r\n",
        "print(\"\")\r\n",
        "abb.transversal(\"pre\")\r\n",
        "print(\"\")\r\n",
        "abb.transversal(\"pos\")\r\n",
        "print(\"\")\r\n",
        "print(\"\")\r\n",
        "resultado = abb.search(70)\r\n",
        "print(f\"El nodo es {resultado.data}, hijo izq {resultado.left} hijo der {resultado.right}\")"
      ],
      "execution_count": 48,
      "outputs": [
        {
          "output_type": "stream",
          "text": [
            "\n",
            "Recorrido in orden\n",
            "1,30,35,50,60,70,89,\n",
            "\n",
            "Recorrido pre orden\n",
            "50,30,1,35,60,89,70,\n",
            "\n",
            "Recorrido pos orden\n",
            "1,35,30,70,89,60,50,\n",
            "\n",
            "Ir a la derecha\n",
            "Ir a la derecha\n",
            "Ir a la izquierda\n",
            "El nodo es 70, hijo izq None hijo der None\n"
          ],
          "name": "stdout"
        }
      ]
    }
  ]
}