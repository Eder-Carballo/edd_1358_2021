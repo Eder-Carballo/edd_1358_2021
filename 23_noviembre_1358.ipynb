{
  "nbformat": 4,
  "nbformat_minor": 0,
  "metadata": {
    "colab": {
      "name": "23_noviembre_1358.ipynb",
      "provenance": [],
      "authorship_tag": "ABX9TyOY1OJsl5A2eIHYvDboPOEK",
      "include_colab_link": true
    },
    "kernelspec": {
      "name": "python3",
      "display_name": "Python 3"
    }
  },
  "cells": [
    {
      "cell_type": "markdown",
      "metadata": {
        "id": "view-in-github",
        "colab_type": "text"
      },
      "source": [
        "<a href=\"https://colab.research.google.com/github/Eder-Carballo/edd_1358_2021/blob/master/23_noviembre_1358.ipynb\" target=\"_parent\"><img src=\"https://colab.research.google.com/assets/colab-badge.svg\" alt=\"Open In Colab\"/></a>"
      ]
    },
    {
      "cell_type": "code",
      "metadata": {
        "id": "BzZ-pgx6X3aI"
      },
      "source": [
        "class Nodo:\n",
        "\n",
        "    def __init__(self , dato , siguiente=None ):\n",
        "        self.dato = dato\n",
        "        self.siguiente = siguiente\n",
        "\n",
        "class LinkedList:\n",
        "    \n",
        "    def __init__( self ):\n",
        "        self.__head = None\n",
        "\n",
        "    def is_empty( self ):\n",
        "        return self.__head == None\n",
        "\n",
        "    def tail( self ):\n",
        "        curr_node = self.__head\n",
        "        while curr_node != None and curr_node.siguiente != None:\n",
        "            curr_node = curr_node.siguiente\n",
        "        return curr_node\n",
        "\n",
        "    def append( self , value):\n",
        "        nuevo = Nodo( value )\n",
        "        if self.__head == None:\n",
        "            self.__head = nuevo\n",
        "        else: \n",
        "            self.tail().siguiente = nuevo \n",
        "\n",
        "    def transversal( self ):\n",
        "        curr_node = self.__head\n",
        "        if curr_node == None:\n",
        "            print(\"Lista vacia\")\n",
        "        else:\n",
        "            while curr_node != None:\n",
        "                print(f\"{ curr_node.dato } -->\", end=\"\")\n",
        "                curr_node = curr_node.siguiente\n",
        "        print(\"\")\n",
        "\n",
        "    def preppend( self , value ):\n",
        "        nuevo = Nodo ( value )\n",
        "        if self.__head == None:\n",
        "            self.__head == nuevo\n",
        "        else:\n",
        "            x = self.__head\n",
        "            self.__head = nuevo\n",
        "            nuevo.siguiente = x "
      ],
      "execution_count": 1,
      "outputs": []
    },
    {
      "cell_type": "code",
      "metadata": {
        "colab": {
          "base_uri": "https://localhost:8080/"
        },
        "id": "T_-xd8zSG_dh",
        "outputId": "b58a7cae-1a8a-4e62-ebf0-b2ff4583be3f"
      },
      "source": [
        "l = LinkedList()\n",
        "print(f\"l esta vacia?= { l.is_empty()}\")\n",
        "x = l.tail()\n",
        "print(x)\n",
        "l.append(10)\n",
        "l.append(20)\n",
        "l.append(30)\n",
        "l.append(40)\n",
        "l.transversal()\n",
        "l.preppend(5)\n",
        "l.transversal()"
      ],
      "execution_count": 2,
      "outputs": [
        {
          "output_type": "stream",
          "text": [
            "l esta vacia?= True\n",
            "None\n",
            "10 -->20 -->30 -->40 -->\n",
            "5 -->10 -->20 -->30 -->40 -->\n"
          ],
          "name": "stdout"
        }
      ]
    }
  ]
}