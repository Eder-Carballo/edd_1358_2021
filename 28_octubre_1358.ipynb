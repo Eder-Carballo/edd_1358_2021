{
  "nbformat": 4,
  "nbformat_minor": 0,
  "metadata": {
    "colab": {
      "name": "28_octubre_1358.ipynb",
      "provenance": [],
      "authorship_tag": "ABX9TyMeLbdItDxBubDZXAGA+SoO",
      "include_colab_link": true
    },
    "kernelspec": {
      "name": "python3",
      "display_name": "Python 3"
    }
  },
  "cells": [
    {
      "cell_type": "markdown",
      "metadata": {
        "id": "view-in-github",
        "colab_type": "text"
      },
      "source": [
        "<a href=\"https://colab.research.google.com/github/Eder-Carballo/edd_1358_2021/blob/master/28_octubre_1358.ipynb\" target=\"_parent\"><img src=\"https://colab.research.google.com/assets/colab-badge.svg\" alt=\"Open In Colab\"/></a>"
      ]
    },
    {
      "cell_type": "code",
      "metadata": {
        "id": "73z9gIeZzy_J",
        "outputId": "895347da-f596-4464-8b37-1b468472a2a9",
        "colab": {
          "base_uri": "https://localhost:8080/"
        }
      },
      "source": [
        "\"\"\"\n",
        "Array\n",
        "\"\"\"\n",
        "class Array:\n",
        "    def __init__ (self, tam):\n",
        "        self.__datos = [0 for x in range(tam)]\n",
        "\n",
        "    def grt_item(self ,index):\n",
        "        dato = 0\n",
        "        if index >= 0 and index < len(self.__datos):\n",
        "            dato = self.__datos[index]\n",
        "        else:\n",
        "            print(\"Error en el indice\")\n",
        "        return dato\n",
        "    def set_item(self , dato , index ):\n",
        "        if index >= 0 and index < len(self.__datos):\n",
        "            self.__datos[index] = dato\n",
        "        else:\n",
        "            print(\"Error en el indice\")\n",
        "\n",
        "    def get_length(self):\n",
        "        return len(self.dato)\n",
        "\n",
        "    def clear(self , dato):\n",
        "        self.__datos = [dato for x in range(self._tam)]\n",
        "\n",
        "    def _getIterator(self):\n",
        "        return _getIterator(self.__datos)\n",
        "\n",
        "class _getIterator:\n",
        "    def __init__(self , arreglo):\n",
        "        self.__arreglo = arreglo\n",
        "        self.__indice_actual = 0\n",
        "\n",
        "    def __iter__(self):\n",
        "        return self\n",
        "\n",
        "    def __next__(self ):\n",
        "        if self.__indice_actual < len(self.__arreglo):\n",
        "            dato = self.__arreglo[self.__indice_actual]\n",
        "            self.__indice_actual +=1\n",
        "            return dato \n",
        "        else:\n",
        "            raise StopIteration\n",
        "\n",
        "\n",
        "mi_arreglo = Array(10)\n",
        "print(mi_arreglo.grt_item(20))\n",
        "mi_arreglo.set_item(2345 , 3)\n",
        "print(mi_arreglo.grt_item(3))\n",
        "\n",
        "for x in mi_arreglo._getIterator():\n",
        "    print(x)"
      ],
      "execution_count": 16,
      "outputs": [
        {
          "output_type": "stream",
          "text": [
            "Error en el indice\n",
            "0\n",
            "2345\n",
            "0\n",
            "0\n",
            "0\n",
            "2345\n",
            "0\n",
            "0\n",
            "0\n",
            "0\n",
            "0\n",
            "0\n"
          ],
          "name": "stdout"
        }
      ]
    },
    {
      "cell_type": "code",
      "metadata": {
        "id": "xCmLJjS_HYRT",
        "outputId": "59d00007-9476-44a1-d771-01a0f1f5ee02",
        "colab": {
          "base_uri": "https://localhost:8080/"
        }
      },
      "source": [
        "basura = [\"manzana\" , \"pera\"]\n",
        "datos = [ x.upper() for x in basura ]\n",
        "print(datos)"
      ],
      "execution_count": 9,
      "outputs": [
        {
          "output_type": "stream",
          "text": [
            "['MANZANA', 'PERA']\n"
          ],
          "name": "stdout"
        }
      ]
    },
    {
      "cell_type": "markdown",
      "metadata": {
        "id": "EflXe6iCIWnD"
      },
      "source": [
        "[\n",
        "    [0 , 0 , 0]\n",
        "    [0 , 0 , 0]\n",
        "    [0 , 0 , 0]\n",
        "        ]"
      ]
    },
    {
      "cell_type": "code",
      "metadata": {
        "id": "Mlr1Tg-TIxbZ",
        "outputId": "2ff751e5-4836-405c-f9bc-79c1ea97b591",
        "colab": {
          "base_uri": "https://localhost:8080/"
        }
      },
      "source": [
        "#lista 2D\n",
        "ren = 4\n",
        "cool = 6\n",
        "dos_d = [[0 for x in range(cool)] for x in range(ren)]\n",
        "print(dos_d)"
      ],
      "execution_count": 12,
      "outputs": [
        {
          "output_type": "stream",
          "text": [
            "[[0, 0, 0, 0, 0, 0], [0, 0, 0, 0, 0, 0], [0, 0, 0, 0, 0, 0], [0, 0, 0, 0, 0, 0]]\n"
          ],
          "name": "stdout"
        }
      ]
    }
  ]
}