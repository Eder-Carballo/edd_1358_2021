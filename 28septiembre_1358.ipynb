{
  "nbformat": 4,
  "nbformat_minor": 0,
  "metadata": {
    "colab": {
      "name": "28septiembre_1358.ipynb",
      "provenance": [],
      "authorship_tag": "ABX9TyNosITj74wU1agLIlkuKWaG",
      "include_colab_link": true
    },
    "kernelspec": {
      "name": "python3",
      "display_name": "Python 3"
    }
  },
  "cells": [
    {
      "cell_type": "markdown",
      "metadata": {
        "id": "view-in-github",
        "colab_type": "text"
      },
      "source": [
        "<a href=\"https://colab.research.google.com/github/Eder-Carballo/edd_1358_2021/blob/master/28septiembre_1358.ipynb\" target=\"_parent\"><img src=\"https://colab.research.google.com/assets/colab-badge.svg\" alt=\"Open In Colab\"/></a>"
      ]
    },
    {
      "cell_type": "code",
      "metadata": {
        "id": "wffMRhIFjhM1",
        "outputId": "11ceca9b-7444-493f-e6ee-992e0250d124",
        "colab": {
          "base_uri": "https://localhost:8080/",
          "height": 34
        }
      },
      "source": [
        "print(\"Hola colab research\")\n",
        "nombre = \"Estructura de Datos\"\n",
        "val = 10"
      ],
      "execution_count": 1,
      "outputs": [
        {
          "output_type": "stream",
          "text": [
            "Hola colab research\n"
          ],
          "name": "stdout"
        }
      ]
    },
    {
      "cell_type": "code",
      "metadata": {
        "id": "lZ7ckc1b0UJh",
        "outputId": "38303d8d-31d7-4ca1-c329-0e597a50abae",
        "colab": {
          "base_uri": "https://localhost:8080/",
          "height": 51
        }
      },
      "source": [
        "print(nombre)\n",
        "print(val)"
      ],
      "execution_count": 2,
      "outputs": [
        {
          "output_type": "stream",
          "text": [
            "Estructura de Datos\n",
            "10\n"
          ],
          "name": "stdout"
        }
      ]
    },
    {
      "cell_type": "markdown",
      "metadata": {
        "id": "f8PnSGXR0c0x"
      },
      "source": [
        "#Hola esto es un encabezado\n",
        "\n",
        "##encabezado nivel dos\n",
        "\n",
        "###sintaxis Markdown\n",
        "- elemento 1\n",
        "- elemento 2\n",
        "- elemento 3\n",
        "\n",
        "1. fresa\n",
        "1. manzana\n",
        "1. pera \n",
        "\n",
        "Esto es un texto largo y quiero poner **negritas** tambien quiero poner *italica* \n",
        "- [ir a Google](www.google.com.mx)\n",
        "\n"
      ]
    },
    {
      "cell_type": "code",
      "metadata": {
        "id": "BO9Web173cUo"
      },
      "source": [
        "class Silla():\n",
        "  def __init__(self):\n",
        "    self.material = \"\"\n",
        "    self.color = \"\"\n",
        "\n",
        "  def to_string ( self ):\n",
        "      print(\"-----\") \n",
        "      print(f\" Material: {self.material}\")\n",
        "      print(f\"{self.color} -----\")"
      ],
      "execution_count": 25,
      "outputs": []
    },
    {
      "cell_type": "code",
      "metadata": {
        "id": "qY4_HV2dsTaS",
        "outputId": "111e3ede-ad39-43c0-fd2b-c33644cb7044",
        "colab": {
          "base_uri": "https://localhost:8080/",
          "height": 68
        }
      },
      "source": [
        "obj = Silla()\n",
        "obj.material = \"Madera\"\n",
        "obj.color = \"Rojo\"\n",
        "obj.to_string()\n"
      ],
      "execution_count": 26,
      "outputs": [
        {
          "output_type": "stream",
          "text": [
            "-----\n",
            " Material: Madera\n",
            "Rojo -----\n"
          ],
          "name": "stdout"
        }
      ]
    }
  ]
}