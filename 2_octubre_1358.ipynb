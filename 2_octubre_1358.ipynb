{
  "nbformat": 4,
  "nbformat_minor": 0,
  "metadata": {
    "colab": {
      "name": "2_octubre_1358.ipynb",
      "provenance": [],
      "authorship_tag": "ABX9TyP5romovAL67xPGNK8Uo1sL",
      "include_colab_link": true
    },
    "kernelspec": {
      "name": "python3",
      "display_name": "Python 3"
    }
  },
  "cells": [
    {
      "cell_type": "markdown",
      "metadata": {
        "id": "view-in-github",
        "colab_type": "text"
      },
      "source": [
        "<a href=\"https://colab.research.google.com/github/Eder-Carballo/edd_1358_2021/blob/master/2_octubre_1358.ipynb\" target=\"_parent\"><img src=\"https://colab.research.google.com/assets/colab-badge.svg\" alt=\"Open In Colab\"/></a>"
      ]
    },
    {
      "cell_type": "markdown",
      "metadata": {
        "id": "wbVbWDxt3MHm"
      },
      "source": [
        "# tipos de datos\n",
        "\n",
        "string            str        \n",
        "enteros int       int\n",
        "numeros flotates  float\n",
        "logico            bool\n",
        "numero complejo   complex\n",
        "listas            list\n",
        "tuplas            tuple\n",
        "diccionario       dict\n",
        "conjuntos         set"
      ]
    },
    {
      "cell_type": "code",
      "metadata": {
        "id": "3BjGAtPK4AFa",
        "outputId": "b7d7b5a5-89e0-4207-df10-74b2468275e9",
        "colab": {
          "base_uri": "https://localhost:8080/",
          "height": 136
        }
      },
      "source": [
        "#string puede emplear \"\" , '' o \"\"\" \"\"\"\n",
        "universidad =\"universidad nacional autonoma de mexico\"\n",
        "print (universidad)\n",
        "\n",
        "# cuando el string es una sola paabra se usa: '' --- buena practica \n",
        "carrera = 'ico'\n",
        "area = \"softwere\"\n",
        "print(carrera,area)\n",
        "\n",
        "#triples comillas dobles cuando el string lleva varios renglones\n",
        "frase = \"\"\"Si \n",
        "funsiona \n",
        "no \n",
        "lo\n",
        "arregles\"\"\"\n",
        "print(frase )"
      ],
      "execution_count": 26,
      "outputs": [
        {
          "output_type": "stream",
          "text": [
            "universidad nacional autonoma de mexico\n",
            "ico softwere\n",
            "Si \n",
            "funsiona \n",
            "no \n",
            "lo\n",
            "arregles\n"
          ],
          "name": "stdout"
        }
      ]
    },
    {
      "cell_type": "code",
      "metadata": {
        "id": "Iw1wPnsp5lLv",
        "outputId": "b12774b5-af31-43d1-9450-c76eddfd66e8",
        "colab": {
          "base_uri": "https://localhost:8080/",
          "height": 221
        }
      },
      "source": [
        "#todo en mayusculas\n",
        "print(universidad.upper())\n",
        "print(universidad)\n",
        "#mayusculas solo en la primer letra de cada palabra\n",
        "print(universidad.title())\n",
        "#eliminar espacios y saltos de linea\n",
        "universidad = universidad.strip()\n",
        "print(universidad)\n",
        "lista = universidad.split(\" \")\n",
        "print(lista)\n",
        "nueva=\" \"\n",
        "for l in lista:\n",
        "  if len(l) > 0:\n",
        "    nueva += l + \" \"\n",
        "print(nueva)\n",
        "\n",
        "numeros = \"1,2,34,56,100\"\n",
        "separados = numeros.split(\"4\")\n",
        "print(separados)\n",
        "numeros_int= []\n",
        "for num in separados:\n",
        "  numeros_int.append\n",
        "print(numeros_int)\n",
        "print(nueva)\n",
        "print(nueva.index(\"na\"))\n",
        "print(nueva.replace(' ','-'))\n",
        "print(universidad)\n"
      ],
      "execution_count": 31,
      "outputs": [
        {
          "output_type": "stream",
          "text": [
            "UNIVERSIDAD NACIONAL AUTONOMA DE MEXICO\n",
            "universidad nacional autonoma de mexico\n",
            "Universidad Nacional Autonoma De Mexico\n",
            "universidad nacional autonoma de mexico\n",
            "['universidad', 'nacional', 'autonoma', 'de', 'mexico']\n",
            " universidad nacional autonoma de mexico \n",
            "['1,2,3', ',56,100']\n",
            "[]\n",
            " universidad nacional autonoma de mexico \n",
            "13\n",
            "-universidad-nacional-autonoma-de-mexico-\n",
            "universidad nacional autonoma de mexico\n"
          ],
          "name": "stdout"
        }
      ]
    },
    {
      "cell_type": "markdown",
      "metadata": {
        "id": "h_XJlk76_YWE"
      },
      "source": [
        "#slicing\n",
        "sintaxis [inicio:stop:incremento]"
      ]
    },
    {
      "cell_type": "code",
      "metadata": {
        "id": "RePW0rfq_59o",
        "outputId": "1d79e981-fbdb-46d8-cb87-af3c2a8f6180",
        "colab": {
          "base_uri": "https://localhost:8080/",
          "height": 153
        }
      },
      "source": [
        "print(nueva[0])\n",
        "nueva = nueva.strip()\n",
        "print(nueva[len(nueva) -1]) #indexado negativo\n",
        "print(nueva[-2]) \n",
        "\n",
        "#slicing\n",
        "print(nueva)\n",
        "print(nueva[ 12 : 20 :1]) \n",
        "print(nueva[ -6 :  :1])\n",
        "#ocixem\n",
        "print(nueva[ -1 : -7 :-1]) \n",
        "\n",
        "#valores por defecto [0 : longitud de la lista : 1]\n",
        "print(nueva[:4:]) "
      ],
      "execution_count": 33,
      "outputs": [
        {
          "output_type": "stream",
          "text": [
            "u\n",
            "o\n",
            "c\n",
            "universidad nacional autonoma de mexico\n",
            "nacional\n",
            "mexico\n",
            "ocixem\n",
            "univ\n"
          ],
          "name": "stdout"
        }
      ]
    },
    {
      "cell_type": "markdown",
      "metadata": {
        "id": "YSG-AouZD941"
      },
      "source": [
        "#bool\n",
        "Acepta solo dos valores\n",
        "True bool(1)\n",
        "False bool(0)"
      ]
    },
    {
      "cell_type": "code",
      "metadata": {
        "id": "RL10zbJ4EKV6",
        "outputId": "6aa9b99a-8352-43ed-a17b-50f43e996a33",
        "colab": {
          "base_uri": "https://localhost:8080/",
          "height": 68
        }
      },
      "source": [
        "print(bool(0))\n",
        "print(bool(1))\n",
        "flag = 0\n",
        "print(bool (flag))\n",
        "print(True)"
      ],
      "execution_count": 35,
      "outputs": [
        {
          "output_type": "stream",
          "text": [
            "False\n",
            "True\n",
            "False\n"
          ],
          "name": "stdout"
        }
      ]
    },
    {
      "cell_type": "markdown",
      "metadata": {
        "id": "8MUI8RvoFchY"
      },
      "source": [
        "#comentarios\n",
        "\n",
        "para un comentario de una line se usa el #\n",
        "para un comentario de multiple linea, equivalente a /**/ de java y c se utiliza \"\"\" \"\"\""
      ]
    },
    {
      "cell_type": "code",
      "metadata": {
        "id": "0oM2nICBFfUl",
        "outputId": "0e8470fe-1bf7-41c8-8155-c082b2280e6d",
        "colab": {
          "base_uri": "https://localhost:8080/",
          "height": 35
        }
      },
      "source": [
        "#este es un comentario simple\n",
        "\n",
        "\"\"\"\n",
        "este es \n",
        "un comentario \n",
        "multiple de \n",
        "linea\"\"\""
      ],
      "execution_count": 37,
      "outputs": [
        {
          "output_type": "execute_result",
          "data": {
            "application/vnd.google.colaboratory.intrinsic+json": {
              "type": "string"
            },
            "text/plain": [
              "'\\neste es \\nun comentario \\nmultiple de \\nlinea'"
            ]
          },
          "metadata": {
            "tags": []
          },
          "execution_count": 37
        }
      ]
    },
    {
      "cell_type": "markdown",
      "metadata": {
        "id": "MY9v39B8FxYo"
      },
      "source": [
        "#funcion print\n",
        "\n",
        "hay cuatro formas de usar el print \n",
        "1. con comas(,)\n",
        "2. con signo + (+)\n",
        "3. con la funcion format() de la clase string\n",
        "4. con el operador f"
      ]
    },
    {
      "cell_type": "code",
      "metadata": {
        "id": "gXF2Af2YGXfS",
        "outputId": "510e4c91-7f6d-428b-ab30-6cecf398eb40",
        "colab": {
          "base_uri": "https://localhost:8080/",
          "height": 68
        }
      },
      "source": [
        "#con comas \n",
        "cantidad = 2\n",
        "p_chetos = 8\n",
        "p_fantas = 12\n",
        "print(cantidad, p_chetos, p_fantas)\n",
        "\n",
        "#con el signo solo opera con str\n",
        "print(\"hola\" + \" \" + \"mundo\")\n",
        "print(cantidad + p_chetos + p_fantas)"
      ],
      "execution_count": 47,
      "outputs": [
        {
          "output_type": "stream",
          "text": [
            "2 8 12\n",
            "hola mundo\n",
            "22\n"
          ],
          "name": "stdout"
        }
      ]
    }
  ]
}