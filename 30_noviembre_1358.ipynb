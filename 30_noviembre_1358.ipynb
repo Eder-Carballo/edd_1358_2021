{
  "nbformat": 4,
  "nbformat_minor": 0,
  "metadata": {
    "colab": {
      "name": "30_noviembre_1358.ipynb",
      "provenance": [],
      "collapsed_sections": [],
      "authorship_tag": "ABX9TyOIqvrq4p1qOvx1zpE8aT5W",
      "include_colab_link": true
    },
    "kernelspec": {
      "name": "python3",
      "display_name": "Python 3"
    }
  },
  "cells": [
    {
      "cell_type": "markdown",
      "metadata": {
        "id": "view-in-github",
        "colab_type": "text"
      },
      "source": [
        "<a href=\"https://colab.research.google.com/github/Eder-Carballo/edd_1358_2021/blob/master/30_noviembre_1358.ipynb\" target=\"_parent\"><img src=\"https://colab.research.google.com/assets/colab-badge.svg\" alt=\"Open In Colab\"/></a>"
      ]
    },
    {
      "cell_type": "code",
      "metadata": {
        "id": "5EKPpdYi2CQ3"
      },
      "source": [
        "class Stack:\n",
        "\n",
        "    def __init__( self ):\n",
        "        self.__data = []\n",
        "        self.__size = 0\n",
        "\n",
        "    def pop( self ):\n",
        "        return self.__data.pop()\n",
        "    \n",
        "    def peek( self ):\n",
        "        return self.__data[-1]\n",
        "\n",
        "    def push( self , value ):\n",
        "        self.__data.append( value )\n",
        "    \n",
        "    def to_string( self ):\n",
        "        print(\"----\")\n",
        "        for dato in self.__data[::-1]:\n",
        "            print(f\"| { dato } |\")\n",
        "            print(\"----\")\n"
      ],
      "execution_count": 15,
      "outputs": []
    },
    {
      "cell_type": "code",
      "metadata": {
        "colab": {
          "base_uri": "https://localhost:8080/"
        },
        "id": "J8fhwlLbAISC",
        "outputId": "a3bedc81-6290-47d1-9d25-44c94468c497"
      },
      "source": [
        "pl = Stack()\n",
        "pl.push(34)\n",
        "pl.push(10)\n",
        "pl.push(45)\n",
        "pl.push(4)\n",
        "pl.push(23)\n",
        "pl.push(33)\n",
        "valor = pl.pop()\n",
        "print( valor * 2)\n",
        "pl.to_string()\n",
        "valor = pl.peek()\n",
        "print( valor * 2)\n",
        "pl.to_string()"
      ],
      "execution_count": 16,
      "outputs": [
        {
          "output_type": "stream",
          "text": [
            "66\n",
            "----\n",
            "| 23 |\n",
            "----\n",
            "| 4 |\n",
            "----\n",
            "| 45 |\n",
            "----\n",
            "| 10 |\n",
            "----\n",
            "| 34 |\n",
            "----\n",
            "46\n",
            "----\n",
            "| 23 |\n",
            "----\n",
            "| 4 |\n",
            "----\n",
            "| 45 |\n",
            "----\n",
            "| 10 |\n",
            "----\n",
            "| 34 |\n",
            "----\n"
          ],
          "name": "stdout"
        }
      ]
    },
    {
      "cell_type": "code",
      "metadata": {
        "id": "qdN1a6yqB4G-",
        "colab": {
          "base_uri": "https://localhost:8080/"
        },
        "outputId": "0360a0be-df28-4c3a-9cce-0329fa4285ae"
      },
      "source": [
        "# aplicacions de la estructura Stack()\n",
        "# Validacion de parentesis balanceados'(' , '{' y '[' \n",
        "\n",
        "cadena =\"b=3*(5(+(4/2))\"\n",
        "#cadena =\")))))(()\"\n",
        "pila = Stack()\n",
        "pila.push(\"#\") # caracter de pìla vacia.\n",
        "for elem in cadena:\n",
        "    if elem == '(':\n",
        "        pila.push('*')\n",
        "    elif elem == ')':\n",
        "        pila.pop()\n",
        "    else:\n",
        "        pass\n",
        "if pila.peek() == '#':\n",
        "    print(\"La exprecion esta balanceada en parentesis\")\n",
        "else:\n",
        "    print(\"La exprecion no esta balanceada\")\n"
      ],
      "execution_count": 20,
      "outputs": [
        {
          "output_type": "stream",
          "text": [
            "La exprecion no esta balanceada\n"
          ],
          "name": "stdout"
        }
      ]
    }
  ]
}