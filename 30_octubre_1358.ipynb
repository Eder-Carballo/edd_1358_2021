{
  "nbformat": 4,
  "nbformat_minor": 0,
  "metadata": {
    "colab": {
      "name": "30_octubre_1358.ipynb",
      "provenance": [],
      "collapsed_sections": [],
      "authorship_tag": "ABX9TyN+mOpcOnRASbEks8V9rdN+",
      "include_colab_link": true
    },
    "kernelspec": {
      "name": "python3",
      "display_name": "Python 3"
    }
  },
  "cells": [
    {
      "cell_type": "markdown",
      "metadata": {
        "id": "view-in-github",
        "colab_type": "text"
      },
      "source": [
        "<a href=\"https://colab.research.google.com/github/Eder-Carballo/edd_1358_2021/blob/master/30_octubre_1358.ipynb\" target=\"_parent\"><img src=\"https://colab.research.google.com/assets/colab-badge.svg\" alt=\"Open In Colab\"/></a>"
      ]
    },
    {
      "cell_type": "code",
      "metadata": {
        "id": "e5jhtYkpOK2y",
        "outputId": "243535cd-052d-4f4e-d9c6-ac5477f60fe4",
        "colab": {
          "base_uri": "https://localhost:8080/",
          "height": 52
        }
      },
      "source": [
        "\"\"\"\n",
        "Array\n",
        "\"\"\"\n",
        "class Array:\n",
        "    def __init__ (self, tam):\n",
        "        self.__datos = [0 for x in range(tam)]\n",
        "\n",
        "    def grt_item(self ,index):\n",
        "        dato = 0\n",
        "        if index >= 0 and index < len(self.__datos):\n",
        "            dato = self.__datos[index]\n",
        "        else:\n",
        "            print(\"Error en el indice\")\n",
        "        return dato\n",
        "    def set_item(self , dato , index ):\n",
        "        if index >= 0 and index < len(self.__datos):\n",
        "            self.__datos[index] = dato\n",
        "        else:\n",
        "            print(\"Error en el indice\")\n",
        "\n",
        "    def get_length(self):\n",
        "        return len(self.dato)\n",
        "\n",
        "    def clear(self , dato):\n",
        "        self.__datos = [dato for x in range(self._tam)]\n",
        "\n",
        "    def __iter__(self):\n",
        "        return _getIterator(self.__datos)\n",
        "\n",
        "class _getIterator:\n",
        "    def __init__(self , arreglo):\n",
        "        self.__arreglo = arreglo\n",
        "        self.__indice_actual = 0\n",
        "\n",
        "    def __iter__(self):\n",
        "        return self\n",
        "\n",
        "    def __next__(self ):\n",
        "        if self.__indice_actual < len(self.__arreglo):\n",
        "            dato = self.__arreglo[self.__indice_actual]\n",
        "            self.__indice_actual +=1\n",
        "            return dato \n",
        "        else:\n",
        "            raise StopIteration\n",
        "\n",
        "\"\"\"\n",
        "mi_arreglo = Array(10)\n",
        "print(mi_arreglo.grt_item(20))\n",
        "mi_arreglo.set_item(2345 , 3)\n",
        "print(mi_arreglo.grt_item(3))\n",
        "\n",
        "print(\"----------\")\n",
        "for x in mi_arreglo:\n",
        "    print(x)\n",
        "\"\"\"\n"
      ],
      "execution_count": 1,
      "outputs": [
        {
          "output_type": "execute_result",
          "data": {
            "application/vnd.google.colaboratory.intrinsic+json": {
              "type": "string"
            },
            "text/plain": [
              "'\\nmi_arreglo = Array(10)\\nprint(mi_arreglo.grt_item(20))\\nmi_arreglo.set_item(2345 , 3)\\nprint(mi_arreglo.grt_item(3))\\n\\nprint(\"----------\")\\nfor x in mi_arreglo:\\n    print(x)\\n'"
            ]
          },
          "metadata": {
            "tags": []
          },
          "execution_count": 1
        }
      ]
    },
    {
      "cell_type": "code",
      "metadata": {
        "id": "O7iidMipTzxs"
      },
      "source": [
        "class Empleado:\n",
        "    def __init__(self , num , nom , pat , mat , he , sb , anio ):\n",
        "        self.__num__trabajador = __num__trabajador\n",
        "        self.__nombres = nom\n",
        "        self.__paterno = pat\n",
        "        self.__materno = mat\n",
        "        self.__horas_extras = he\n",
        "        self.__sueldo_base = sb\n",
        "        self.__anio_ingreso = anio \n",
        "        #get y set\n",
        "\n",
        "        #metodos de uso general : calculos\n",
        "\n",
        "        #to_string()"
      ],
      "execution_count": 4,
      "outputs": []
    },
    {
      "cell_type": "code",
      "metadata": {
        "id": "5PzhnbOEV-aV",
        "outputId": "76e83af3-b831-43b6-d983-4a359a01c188",
        "colab": {
          "base_uri": "https://localhost:8080/"
        }
      },
      "source": [
        "\"\"\"\n",
        "ADT sueldos encapsulara datos de nomina \n",
        "METODO - cargar_datos (ruta_archivo)\n",
        "         calcular_sueldos ()\n",
        "         reportar_mayor_antiguedad()\n",
        "         reportar_menor_antiguedad()   \n",
        "\"\"\"\n",
        "\n",
        "class Sueldos:\n",
        "    def __init__( self ):\n",
        "        self.__data = None \n",
        "\n",
        "    def cargar_datos (self , ruta_archivo):\n",
        "        archivo = open(ruta_archivo , \"rt\" , encoding='latin1')\n",
        "        lineas = archivo.readlines()\n",
        "        archivo.close()\n",
        "        self.__data = Array (len(lineas) -1)\n",
        "        # Su tarea\n",
        "        for linea in lineas:\n",
        "            print(linea)\n",
        "            #separar campos\n",
        "            #crear un objeto empleado\n",
        "            #cargar ese objeto a self__data.set_item()\n",
        "\n",
        "\n",
        "ejemplo = Sueldos()\n",
        "ejemplo.cargar_datos('junio.dat')"
      ],
      "execution_count": 2,
      "outputs": [
        {
          "output_type": "stream",
          "text": [
            "numero de trabajador, nombres, paterno, materno, horas extra, sueldo base, aÃ±o de ingreso\n",
            "\n",
            "2345,CARLOS,PEREZ,CASTILLO,0,9850,2017\n",
            "\n",
            "5754,ANGEL,GOMEZ,GARRIDO,1,9850,2020\n",
            "\n",
            "5345,JESUS,MARTIN,SANTOS,2,9850,2016\n",
            "\n",
            "3267,DAVID,JIMENEZ,LOZANO,2,9850,2017\n",
            "\n",
            "8765,PEDRO,RUIZ,GUERRERO,2,9850,2017\n",
            "\n",
            "5454,DANIEL,HERNANDEZ,CANO,3,9850,2018\n",
            "\n",
            "3456,ALEJANDRO,DIAZ,PRIETO,2,9850,2018\n",
            "\n",
            "3445,MARIA,MORENO,MENDEZ,1,9850,2018\n",
            "\n",
            "9088,ALBERTO,MUOZ,CRUZ,1,9850,2017\n",
            "\n",
            "8877,RAFAEL,ALVAREZ,FLORES,2,9850,2017\n",
            "\n",
            "6767,FERNANDO,ROMERO,HERRERA,4,9850,2019\n",
            "\n",
            "5654,PABLO,ALONSO,GALLEGO,1,9850,2019\n",
            "\n",
            "4323,JORGE,GUTIERREZ,MARQUEZ,2,9850,2020\n",
            "\n",
            "2232,RAMON,NAVARRO,LEON,1,9850,2016\n"
          ],
          "name": "stdout"
        }
      ]
    }
  ]
}