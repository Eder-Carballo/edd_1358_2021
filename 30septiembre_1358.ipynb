{
  "nbformat": 4,
  "nbformat_minor": 0,
  "metadata": {
    "colab": {
      "name": "30septiembre_1358.ipynb",
      "provenance": [],
      "authorship_tag": "ABX9TyOO9yQz1pu5D7ts1iSnUjFP",
      "include_colab_link": true
    },
    "kernelspec": {
      "name": "python3",
      "display_name": "Python 3"
    }
  },
  "cells": [
    {
      "cell_type": "markdown",
      "metadata": {
        "id": "view-in-github",
        "colab_type": "text"
      },
      "source": [
        "<a href=\"https://colab.research.google.com/github/Eder-Carballo/edd_1358_2021/blob/master/30septiembre_1358.ipynb\" target=\"_parent\"><img src=\"https://colab.research.google.com/assets/colab-badge.svg\" alt=\"Open In Colab\"/></a>"
      ]
    },
    {
      "cell_type": "markdown",
      "metadata": {
        "id": "EV_U0nAytERw"
      },
      "source": [
        "#Fundamentos python 3\n",
        "### tipos de datos basicos \n",
        "edad = 13\n",
        "nombre =\"Eder\"\n",
        "estatura = 1.67\n",
        "tiene_ine = True\n",
        "\n",
        "### compuestos\n",
        "\n",
        "### Listas\n",
        "lista_ejemplo = [\"manzana\", 1.57; True, [\"rojo\" , \"azul\"]] \n",
        "\n",
        "### Tuplas \n",
        "Son inmutables\n",
        "se accede a los elementios via indice\n",
        "los elementos pueden ser de diferente tipo\n",
        "tupla ejemplo = (\"root\", \"123.322.45.4\" , \"1234dios\")\n",
        "\n",
        "### Diccionarios"
      ]
    },
    {
      "cell_type": "code",
      "metadata": {
        "id": "CoCGvNzhuUc7",
        "outputId": "3abded78-5ca2-4bff-8263-b3a50245964d",
        "colab": {
          "base_uri": "https://localhost:8080/",
          "height": 204
        }
      },
      "source": [
        "lista_ejemplo = [\"manzana\", 1.57, True, [\"rojo\" , \"azul\"]]\n",
        "print(lista_ejemplo[1])\n",
        "print(lista_ejemplo[3])\n",
        "print(lista_ejemplo[3][1])\n",
        "print(lista_ejemplo)\n",
        "#agregar elemento\n",
        "lista_ejemplo.append(\"iPhone\")\n",
        "valor = lista_ejemplo.pop()\n",
        "print(valor)\n",
        "print(lista_ejemplo)\n",
        "\n",
        "#acceder a la documentacion de los tipos de datos dir() y help ()\n",
        "print(\"------------\")\n",
        "lista_ejemplo.insert(1,\"Huawei\")\n",
        "print(lista_ejemplo)\n",
        "\n",
        "#contador\n",
        "\n",
        "conteo = lista_ejemplo.count(True)\n",
        "print(conteo)\n",
        "\n",
        "colores = ['rosa' , 'fiusca' , 'negro']\n",
        "lista_ejemplo.append(colores)\n",
        "print(lista_ejemplo)\n",
        "\n",
        "#con extend fusionan dos listas \n",
        "\n",
        "lista_ejemplo.extend(colores)\n",
        "print(lista_ejemplo)"
      ],
      "execution_count": 12,
      "outputs": [
        {
          "output_type": "stream",
          "text": [
            "1.57\n",
            "['rojo', 'azul']\n",
            "azul\n",
            "['manzana', 1.57, True, ['rojo', 'azul']]\n",
            "iPhone\n",
            "['manzana', 1.57, True, ['rojo', 'azul']]\n",
            "------------\n",
            "['manzana', 'Huawei', 1.57, True, ['rojo', 'azul']]\n",
            "1\n",
            "['manzana', 'Huawei', 1.57, True, ['rojo', 'azul'], ['rosa', 'fiusca', 'negro']]\n",
            "['manzana', 'Huawei', 1.57, True, ['rojo', 'azul'], ['rosa', 'fiusca', 'negro'], 'rosa', 'fiusca', 'negro']\n"
          ],
          "name": "stdout"
        }
      ]
    }
  ]
}