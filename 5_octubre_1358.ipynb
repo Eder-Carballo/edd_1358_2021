{
  "nbformat": 4,
  "nbformat_minor": 0,
  "metadata": {
    "colab": {
      "name": "5_octubre_1358.ipynb",
      "provenance": [],
      "collapsed_sections": [],
      "authorship_tag": "ABX9TyNl8UcFO7BaigDimFRsC4U1",
      "include_colab_link": true
    },
    "kernelspec": {
      "name": "python3",
      "display_name": "Python 3"
    }
  },
  "cells": [
    {
      "cell_type": "markdown",
      "metadata": {
        "id": "view-in-github",
        "colab_type": "text"
      },
      "source": [
        "<a href=\"https://colab.research.google.com/github/Eder-Carballo/edd_1358_2021/blob/master/5_octubre_1358.ipynb\" target=\"_parent\"><img src=\"https://colab.research.google.com/assets/colab-badge.svg\" alt=\"Open In Colab\"/></a>"
      ]
    },
    {
      "cell_type": "code",
      "metadata": {
        "id": "1CWHR1CVQT5-",
        "outputId": "c3c15841-a02f-4db2-f738-869532049557",
        "colab": {
          "base_uri": "https://localhost:8080/",
          "height": 68
        }
      },
      "source": [
        "precio = 12.5\n",
        "cantidad = 2\n",
        "existencia = True \n",
        "\n",
        "#precio de los chetos es de $12.5 y quiero 2 , ¿hay?: True\n",
        "\n",
        "print(\"precio de los chetos es : $\", precio , \"y quiero \", cantidad , \" hay?:\", existencia)\n",
        "print(\"precio de los chetos es : $ {} y quiero  {}  hay?: {}\".format(precio,cantidad,existencia))\n",
        "\n",
        "#operador f\n",
        "\n",
        "print(f\"precio de los chetos es : $ {precio} y quiero  {cantidad}  hay?: {existencia}\")"
      ],
      "execution_count": 4,
      "outputs": [
        {
          "output_type": "stream",
          "text": [
            "precio de los chetos es : $ 12.5 y quiero  2  hay?: True\n",
            "precio de los chetos es : $ 12.5 y quiero  2  hay?: True\n",
            "precio de los chetos es : $ 12.5 y quiero  2  hay?: True\n"
          ],
          "name": "stdout"
        }
      ]
    },
    {
      "cell_type": "markdown",
      "metadata": {
        "id": "J5Kdo7-zYMTX"
      },
      "source": [
        "#Listas\n",
        "declaracion [] \n",
        "\n",
        "selector []\n",
        "\n",
        "mutable.\n",
        "\n",
        "#Tuplas\n",
        "declaracion [] \n",
        "\n",
        "selector []\n",
        "\n",
        "no mutable.\n",
        "\n",
        "#Diccionarios\n",
        "conjuntos de datos en pares de llave:valor.\n",
        "\n",
        "son mutables.\n",
        "\n",
        "equivalentes a JSON.\n",
        "\n",
        "#Conjuntos\n",
        "grupo de elementos con la teoria de conjuntos \n",
        "operaciones de conjuntos."
      ]
    },
    {
      "cell_type": "code",
      "metadata": {
        "id": "JwZzP2OmZYPd",
        "outputId": "15b197b5-57c9-4d00-d723-19534dba5072",
        "colab": {
          "base_uri": "https://localhost:8080/",
          "height": 391
        }
      },
      "source": [
        "#listas\n",
        "materias = [\"CyP\", \"DAA\", \"EDD\", \"IS\", \"POO\"] \n",
        "print(materias)\n",
        "print(materias[2])\n",
        "print(materias[-1])\n",
        "print(materias[4])\n",
        "print(materias[::-1])\n",
        "\n",
        "#crear lista con string\n",
        "fecha = \"5/octubre/2020\"\n",
        "lista_fecha = fecha.split(\"/\")\n",
        "print(lista_fecha)\n",
        "\n",
        "#crear string con una lista\n",
        "lista_hora = [\"15\", \"22\", \"45\"]\n",
        "hora = \":\".join(lista_hora)\n",
        "print(hora)\n",
        "\n",
        "print(\"----------\")\n",
        "print(materias)\n",
        "print(lista_fecha)\n",
        "print(lista_hora)\n",
        "\n",
        "materias[0] = \"Computadoras y programacion\"\n",
        "print(materias)\n",
        "\n",
        "#agregar\n",
        "\n",
        "materias.append(\"Calidad\")\n",
        "print(materias)\n",
        "# insert es complemento de append\n",
        "materias.insert(2, \"Emprendimiento\")\n",
        "print(materias)\n",
        "materia = materias.pop()\n",
        "print(materia)\n",
        "print(materias)\n",
        "materia = materias.pop(1)\n",
        "print(materia)\n",
        "print(materias)\n",
        "\n",
        "#vaciar lista \n",
        "materias.clear()\n",
        "print(materias)\n",
        "\n",
        "#slicing [::]\n",
        "print(\"Slicing\")\n",
        "numeros = [0,1,2,3,4,5,6,7,8,9,10]\n",
        "print(numeros[4:9:1])\n",
        "\n",
        "#sustitir un elemento con slicing\n",
        "numeros[4:9:1] = [-2]\n",
        "print(numeros) \n",
        "\n"
      ],
      "execution_count": 29,
      "outputs": [
        {
          "output_type": "stream",
          "text": [
            "['CyP', 'DAA', 'EDD', 'IS', 'POO']\n",
            "EDD\n",
            "POO\n",
            "POO\n",
            "['POO', 'IS', 'EDD', 'DAA', 'CyP']\n",
            "['5', 'octubre', '2020']\n",
            "15:22:45\n",
            "----------\n",
            "['CyP', 'DAA', 'EDD', 'IS', 'POO']\n",
            "['5', 'octubre', '2020']\n",
            "['15', '22', '45']\n",
            "['Computadoras y programacion', 'DAA', 'EDD', 'IS', 'POO']\n",
            "['Computadoras y programacion', 'DAA', 'EDD', 'IS', 'POO', 'Calidad']\n",
            "['Computadoras y programacion', 'DAA', 'Emprendimiento', 'EDD', 'IS', 'POO', 'Calidad']\n",
            "Calidad\n",
            "['Computadoras y programacion', 'DAA', 'Emprendimiento', 'EDD', 'IS', 'POO']\n",
            "DAA\n",
            "['Computadoras y programacion', 'Emprendimiento', 'EDD', 'IS', 'POO']\n",
            "[]\n",
            "Slicing\n",
            "[4, 5, 6, 7, 8]\n",
            "[0, 1, 2, 3, -2, 9, 10]\n"
          ],
          "name": "stdout"
        }
      ]
    },
    {
      "cell_type": "code",
      "metadata": {
        "id": "RWczBTkXh8ZM",
        "outputId": "dc4ddb5c-1fc9-46b0-bf73-fcef81c6da0a",
        "colab": {
          "base_uri": "https://localhost:8080/",
          "height": 71
        }
      },
      "source": [
        "#Listas_2d \n",
        "autos = [\"Mazda\", \"Honda\", \"Akura\", \"Ford\", \"VW\"]\n",
        "telefonos = [\"iPhone\", \"Huwei mate 30\", \"Xiomi s10\", \"Alcatel t1000\"]\n",
        "sistemas_operativos = [\"Windows\", \"Linux\", \"Android\", \"iOS\", \"MacOS\"]\n",
        "\n",
        "lista_2d = [autos, telefonos, sistemas_operativos]\n",
        "print(lista_2d)\n",
        "print(lista_2d[1][1])"
      ],
      "execution_count": 30,
      "outputs": [
        {
          "output_type": "stream",
          "text": [
            "[['Mazda', 'Honda', 'Akura', 'Ford', 'VW'], ['iPhone', 'Huwei mate 30', 'Xiomi s10', 'Alcatel t1000'], ['Windows', 'Linux', 'Android', 'iOS', 'MacOS']]\n",
            "Huwei mate 30\n"
          ],
          "name": "stdout"
        }
      ]
    }
  ]
}