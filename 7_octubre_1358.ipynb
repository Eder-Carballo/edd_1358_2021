{
  "nbformat": 4,
  "nbformat_minor": 0,
  "metadata": {
    "colab": {
      "name": "7_octubre_1358.ipynb",
      "provenance": [],
      "authorship_tag": "ABX9TyPYUrA/BRGg3zBN14ilxZdj",
      "include_colab_link": true
    },
    "kernelspec": {
      "name": "python3",
      "display_name": "Python 3"
    }
  },
  "cells": [
    {
      "cell_type": "markdown",
      "metadata": {
        "id": "view-in-github",
        "colab_type": "text"
      },
      "source": [
        "<a href=\"https://colab.research.google.com/github/Eder-Carballo/edd_1358_2021/blob/master/7_octubre_1358.ipynb\" target=\"_parent\"><img src=\"https://colab.research.google.com/assets/colab-badge.svg\" alt=\"Open In Colab\"/></a>"
      ]
    },
    {
      "cell_type": "code",
      "metadata": {
        "id": "Ta-dUQFKmX6U",
        "outputId": "9ce68c8f-b6f0-48c8-db51-56aa1b4def90",
        "colab": {
          "base_uri": "https://localhost:8080/"
        }
      },
      "source": [
        "#Listas_nd \n",
        "autos = [\"Mazda\", \"Honda\", \"Akura\", \"Ford\", \"VW\"]\n",
        "telefonos = [\"iPhone\", \"Huawei mate 30\", \"Xiomi s10\", \"Alcatel t1000\"]\n",
        "sistemas_operativos = [\"Windows\", \"Linux\", \"Android\", \"iOS\", \"MacOS\"]\n",
        "procesadores = [[\"intel\", 3,1,True],[\"AMD\",2.7,False],[\"Motorola\",1.1,False]]\n",
        "\n",
        "lista_nd = [autos, telefonos, sistemas_operativos,procesadores]\n",
        "print(lista_nd)\n",
        "print(lista_nd[2][3])\n",
        "print(lista_nd[1][1][3:6])\n",
        "print(lista_nd[3][0][0][-2:-5:-1])\n",
        "\n",
        "#Concatenar listas \n",
        "colores = [\"rojo\",\"verde\",\"azul\",\"negro\"]\n",
        "flores = [\"margarita\",\"rosa\"]\n",
        "\n",
        "nueva = colores + flores \n",
        "print(nueva)\n",
        "print(colores)\n",
        "print(flores)\n",
        "\n",
        "#con extensd\n",
        "colores.extend(flores)\n",
        "print(colores)\n",
        "\n",
        "#unpacking de listas\n",
        "print(\"unpacking\")\n",
        "datos_personales = [\"Jose\",\"Perez\", \"Juarez\",22,1.67,True]\n",
        "nombre,paterno,materno,edad,estatura,fuma = datos_personales\n",
        "print(f\"Nombre:{nombre}\\nEdad:{edad}\")"
      ],
      "execution_count": 10,
      "outputs": [
        {
          "output_type": "stream",
          "text": [
            "[['Mazda', 'Honda', 'Akura', 'Ford', 'VW'], ['iPhone', 'Huawei mate 30', 'Xiomi s10', 'Alcatel t1000'], ['Windows', 'Linux', 'Android', 'iOS', 'MacOS'], [['intel', 3, 1, True], ['AMD', 2.7, False], ['Motorola', 1.1, False]]]\n",
            "iOS\n",
            "wei\n",
            "etn\n",
            "['rojo', 'verde', 'azul', 'negro', 'margarita', 'rosa']\n",
            "['rojo', 'verde', 'azul', 'negro']\n",
            "['margarita', 'rosa']\n",
            "['rojo', 'verde', 'azul', 'negro', 'margarita', 'rosa']\n",
            "unpacking\n",
            "Nombre:Jose\n",
            "Edad:22\n"
          ],
          "name": "stdout"
        }
      ]
    },
    {
      "cell_type": "code",
      "metadata": {
        "id": "e2gflaLiuKIK",
        "outputId": "667b2447-ab64-4fc8-9e5b-eb6d3a68f145",
        "colab": {
          "base_uri": "https://localhost:8080/"
        }
      },
      "source": [
        "#Tuplas\n",
        "bd = ('127.0.0.1','root','toor','1345')\n",
        "print(f\"usuario de la bd es {bd[1]}\")\n",
        "#bd[1]n= 'user1\n",
        "print(bd[1:3:1])\n"
      ],
      "execution_count": 12,
      "outputs": [
        {
          "output_type": "stream",
          "text": [
            "usuario de la bd es root\n",
            "('root', 'toor')\n"
          ],
          "name": "stdout"
        }
      ]
    },
    {
      "cell_type": "code",
      "metadata": {
        "id": "esgt7wuewSco",
        "outputId": "0407901c-90dc-4d99-ffe5-39eb6ce25fe2",
        "colab": {
          "base_uri": "https://localhost:8080/"
        }
      },
      "source": [
        "#Diccionarios\n",
        "alumno = {'nombre':'Juan', 'edad':22, 'carreara':'ICO'}\n",
        "print(alumno)\n",
        "print(alumno['edad'])\n",
        "alumno = {\n",
        "    'nombre':'Juan', \n",
        "    'edad':22, \n",
        "    'carreara':'ICO',\n",
        "    'direccion': {'calle': 'Bosques de africa',\n",
        "                  'numero': 33,\n",
        "                  'delegacion': 'Nezahualcoyotl',\n",
        "                  'estado': 15,\n",
        "                  'nombre_estado': 'Estado de Mexico'\n",
        "                  }\n",
        "          }\n",
        "print(alumno['direccion']['delegacion'])\n",
        "print(alumno['direccion']['delegacion'][3:7])\n",
        "print(alumno['direccion']['delegacion'][3:7].upper())\n",
        "alumno['edad'] = 35\n",
        "print(alumno)\n",
        "alumno['promedio'] = 9.9\n",
        "print(alumno)\n",
        "alumno['direccion']['cp'] = 17170\n",
        "#agrgar otro campo\n",
        "print(alumno)\n",
        "alumno['materia']={'nombre':'CyP','calificacion':10}\n",
        "print(alumno)\n",
        "\n",
        "cliente = {  'id'  :  1, 'nombre' : 'Carlos Slim'}\n",
        "print(cliente)"
      ],
      "execution_count": 24,
      "outputs": [
        {
          "output_type": "stream",
          "text": [
            "{'nombre': 'Juan', 'edad': 22, 'carreara': 'ICO'}\n",
            "22\n",
            "Nezahualcoyotl\n",
            "ahua\n",
            "AHUA\n",
            "{'nombre': 'Juan', 'edad': 35, 'carreara': 'ICO', 'direccion': {'calle': 'Bosques de africa', 'numero': 33, 'delegacion': 'Nezahualcoyotl', 'estado': 15, 'nombre_estado': 'Estado de Mexico'}}\n",
            "{'nombre': 'Juan', 'edad': 35, 'carreara': 'ICO', 'direccion': {'calle': 'Bosques de africa', 'numero': 33, 'delegacion': 'Nezahualcoyotl', 'estado': 15, 'nombre_estado': 'Estado de Mexico'}, 'promedio': 9.9}\n",
            "{'nombre': 'Juan', 'edad': 35, 'carreara': 'ICO', 'direccion': {'calle': 'Bosques de africa', 'numero': 33, 'delegacion': 'Nezahualcoyotl', 'estado': 15, 'nombre_estado': 'Estado de Mexico', 'cp': 17170}, 'promedio': 9.9}\n",
            "{'nombre': 'Juan', 'edad': 35, 'carreara': 'ICO', 'direccion': {'calle': 'Bosques de africa', 'numero': 33, 'delegacion': 'Nezahualcoyotl', 'estado': 15, 'nombre_estado': 'Estado de Mexico', 'cp': 17170}, 'promedio': 9.9, 'materia': {'nombre': 'CyP', 'calificacion': 10}}\n",
            "{'id': 1, 'nombre': 'Carlos Slim'}\n"
          ],
          "name": "stdout"
        }
      ]
    }
  ]
}