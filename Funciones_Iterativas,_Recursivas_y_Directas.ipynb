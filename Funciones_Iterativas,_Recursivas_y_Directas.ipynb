{
  "nbformat": 4,
  "nbformat_minor": 0,
  "metadata": {
    "colab": {
      "name": "Funciones Iterativas, Recursivas y Directas.ipynb",
      "provenance": [],
      "collapsed_sections": [],
      "authorship_tag": "ABX9TyOeJItXLES/BqqdNF75JNLw",
      "include_colab_link": true
    },
    "kernelspec": {
      "name": "python3",
      "display_name": "Python 3"
    },
    "language_info": {
      "name": "python"
    }
  },
  "cells": [
    {
      "cell_type": "markdown",
      "metadata": {
        "id": "view-in-github",
        "colab_type": "text"
      },
      "source": [
        "<a href=\"https://colab.research.google.com/github/Eder-Carballo/edd_1358_2021/blob/master/Funciones_Iterativas%2C_Recursivas_y_Directas.ipynb\" target=\"_parent\"><img src=\"https://colab.research.google.com/assets/colab-badge.svg\" alt=\"Open In Colab\"/></a>"
      ]
    },
    {
      "cell_type": "code",
      "metadata": {
        "id": "-OKCXbivGwk_"
      },
      "source": [
        "#Funcion 1 \n",
        "\n",
        "#Directa\n",
        "def funcion1(numero):\n",
        "    return numero * numero\n",
        "\n",
        "#Iterativa \n",
        "def funcion1I(numero):\n",
        "    for i in range(numero):\n",
        "        valor = numero ** 2\n",
        "    return valor\n",
        "\n",
        "#Recursiva \n",
        "def funcion1R(numero):\n",
        "    if numero == 2:\n",
        "        numero = 4\n",
        "    else:\n",
        "        numero = numero**2\n",
        "    return numero "
      ],
      "execution_count": null,
      "outputs": []
    },
    {
      "cell_type": "code",
      "metadata": {
        "id": "3kxgsCPzTT0c"
      },
      "source": [
        "#Funcion 2 \n",
        "\n",
        "#Directa\n",
        "def funcion2(numero):\n",
        "    return (((numero + 1) / (numero + 1))*-1)**(numero + 1)  \n",
        "\n",
        "#Iterativa \n",
        "def funcion2I(numero):\n",
        "    x = 1\n",
        "    for i in range(numero -1):\n",
        "        x *= -1\n",
        "    return x\n",
        "\n",
        "#Recursiva \n",
        "def funcion2R(numero):\n",
        "    if numero % 2 == 0:\n",
        "        numero = -1\n",
        "    else: \n",
        "        numero = 1\n",
        "    return numero"
      ],
      "execution_count": null,
      "outputs": []
    },
    {
      "cell_type": "code",
      "source": [
        "#Funcion 3 \n",
        "\n",
        "#Directa\n",
        "def funcion3(numero):\n",
        "    return 4 + (numero*(numero-1))\n",
        "    \n",
        "#Iterativa \n",
        "def funcion3I(numero):\n",
        "    for i in range(numero):\n",
        "        x = 4 + (i * 2)\n",
        "    return x\n",
        "\n",
        "#Recursiva \n",
        "def funcion3R(numero):\n",
        "    x = 4\n",
        "    if numero == 1:\n",
        "        numero = 4\n",
        "    elif(numero > 1): \n",
        "        for i in range(numero):\n",
        "            x = x + (2 * (numero - 1))\n",
        "    return x"
      ],
      "metadata": {
        "id": "OQpqpW0yfCiq"
      },
      "execution_count": null,
      "outputs": []
    },
    {
      "cell_type": "code",
      "source": [
        "#Funcion 4\n",
        "\n",
        "#Iterativo\n",
        "def fibonacci_I(numero):\n",
        "    a = 0\n",
        "    b = 1\n",
        "    for i in range(numero):\n",
        "        a, b = b, a + b\n",
        "    return b \n",
        "\n",
        "#Recursivovo\n",
        "def fibonacci_R(numero):\n",
        "    if numero == 0:\n",
        "        return 0\n",
        "    elif numero == 1:\n",
        "        return 1\n",
        "    else:\n",
        "        return fibonacci_R(numero - 2) + fibonacci_R(numero -1)"
      ],
      "metadata": {
        "id": "KLpFNkZcutwC"
      },
      "execution_count": null,
      "outputs": []
    },
    {
      "cell_type": "code",
      "source": [
        "#Funcion 5 \n",
        "\n",
        "#Iterativa\n",
        "def funcion5I(numero):\n",
        "    for i in range (numero):\n",
        "        x = 3*numero + 6*(numero**2)\n",
        "    return x\n",
        "\n",
        "#Recursiva\n",
        "def funcion5R(numero):\n",
        "    if numero == 0:\n",
        "        return 0\n",
        "    elif numero == 1:\n",
        "        return 9 \n",
        "    else:\n",
        "        return 3*numero + 6*(numero**2)"
      ],
      "metadata": {
        "id": "Q0E85gTOxq2d"
      },
      "execution_count": null,
      "outputs": []
    }
  ]
}