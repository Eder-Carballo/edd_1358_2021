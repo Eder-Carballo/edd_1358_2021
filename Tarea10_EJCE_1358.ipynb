{
  "nbformat": 4,
  "nbformat_minor": 0,
  "metadata": {
    "colab": {
      "name": "Tarea10_EJCE_1358.ipynb",
      "provenance": [],
      "collapsed_sections": [],
      "authorship_tag": "ABX9TyOFga9rhGYKWGvEVjsrwOtV",
      "include_colab_link": true
    },
    "kernelspec": {
      "name": "python3",
      "display_name": "Python 3"
    }
  },
  "cells": [
    {
      "cell_type": "markdown",
      "metadata": {
        "id": "view-in-github",
        "colab_type": "text"
      },
      "source": [
        "<a href=\"https://colab.research.google.com/github/Eder-Carballo/edd_1358_2021/blob/master/Tarea10_EJCE_1358.ipynb\" target=\"_parent\"><img src=\"https://colab.research.google.com/assets/colab-badge.svg\" alt=\"Open In Colab\"/></a>"
      ]
    },
    {
      "cell_type": "code",
      "metadata": {
        "colab": {
          "base_uri": "https://localhost:8080/"
        },
        "id": "6rqTZWTZ36DJ",
        "outputId": "eee798a8-4b50-4eb4-b283-e6b07464cda1"
      },
      "source": [
        "#Ejercicio 1\r\n",
        "\r\n",
        "def suma_lista( lista ):\r\n",
        "    if len( lista )== 0:\r\n",
        "        return 0\r\n",
        "\r\n",
        "    elif len( lista ) == 1:\r\n",
        "        return lista[0]\r\n",
        "\r\n",
        "    else:\r\n",
        "        return lista[0] + suma_lista( lista[1:] )\r\n",
        "\r\n",
        "lista = [7 , 3 , 5 , 9 , 6]\r\n",
        "suma = suma_lista( lista )\r\n",
        "print( f\"La suma de los elementos de la lista es = {suma}\" )"
      ],
      "execution_count": 1,
      "outputs": [
        {
          "output_type": "stream",
          "text": [
            "La suma de los elementos de la lista es = 30\n"
          ],
          "name": "stdout"
        }
      ]
    },
    {
      "cell_type": "code",
      "metadata": {
        "colab": {
          "base_uri": "https://localhost:8080/"
        },
        "id": "fxzFgReBCW4D",
        "outputId": "79c5cb3e-8130-4bd6-9f78-8f9ea51cab97"
      },
      "source": [
        "#Ejercicio 2\r\n",
        "\r\n",
        "def contador_regresivo( numero ):\r\n",
        "    if numero >= 0:\r\n",
        "        print( numero )\r\n",
        "        contador_regresivo( numero - 1)\r\n",
        "\r\n",
        "contador_regresivo(5)"
      ],
      "execution_count": 2,
      "outputs": [
        {
          "output_type": "stream",
          "text": [
            "5\n",
            "4\n",
            "3\n",
            "2\n",
            "1\n",
            "0\n"
          ],
          "name": "stdout"
        }
      ]
    }
  ]
}