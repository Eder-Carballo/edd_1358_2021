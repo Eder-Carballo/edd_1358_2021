{
  "nbformat": 4,
  "nbformat_minor": 0,
  "metadata": {
    "colab": {
      "name": "Tarea4_EJCE_1358.ipynb",
      "provenance": [],
      "collapsed_sections": [],
      "authorship_tag": "ABX9TyN5CokEjY6Vf551G/JrYXo/",
      "include_colab_link": true
    },
    "kernelspec": {
      "name": "python3",
      "display_name": "Python 3"
    }
  },
  "cells": [
    {
      "cell_type": "markdown",
      "metadata": {
        "id": "view-in-github",
        "colab_type": "text"
      },
      "source": [
        "<a href=\"https://colab.research.google.com/github/Eder-Carballo/edd_1358_2021/blob/master/Tarea4_EJCE_1358.ipynb\" target=\"_parent\"><img src=\"https://colab.research.google.com/assets/colab-badge.svg\" alt=\"Open In Colab\"/></a>"
      ]
    },
    {
      "cell_type": "code",
      "metadata": {
        "id": "auNerRZ4A5pi"
      },
      "source": [
        "class Nodo:\n",
        "\n",
        "    def __init__(self , dato , siguiente=None ):\n",
        "        self.dato = dato\n",
        "        self.siguiente = siguiente\n",
        "\n",
        "class LinkedList:\n",
        "    \n",
        "    def __init__( self ):\n",
        "        self.__head = None\n",
        "\n",
        "    def is_empty( self ):\n",
        "        return self.__head == None\n",
        "\n",
        "    def tail( self ):\n",
        "        curr_node = self.__head\n",
        "        while curr_node != None and curr_node.siguiente != None:\n",
        "            curr_node = curr_node.siguiente\n",
        "        return curr_node\n",
        "\n",
        "    def append( self , value):\n",
        "        nuevo = Nodo( value )\n",
        "        if self.__head == None:\n",
        "            self.__head = nuevo\n",
        "        else: \n",
        "            self.tail().siguiente = nuevo \n",
        "\n",
        "    def preppend( self , value ):\n",
        "        nuevo = Nodo ( value )\n",
        "        if self.__head == None:\n",
        "            self.__head == nuevo\n",
        "        else:\n",
        "            x = self.__head\n",
        "            self.__head = nuevo\n",
        "            nuevo.siguiente = x \n",
        "\n",
        "    def transversal( self ):\n",
        "        curr_node = self.__head\n",
        "        if curr_node == None:\n",
        "            print(\"Lista vacia\")\n",
        "        else:\n",
        "            while curr_node != None:\n",
        "                print(f\"{ curr_node.dato } -->\", end=\"\")\n",
        "                curr_node = curr_node.siguiente\n",
        "        print(\"\")\n",
        "\n",
        "    def remove( self , value ):\n",
        "        anterior = None\n",
        "        curr_node = self.__head\n",
        "        while curr_node:\n",
        "            if curr_node.dato == value:\n",
        "                if anterior:\n",
        "                    anterior.siguiente = curr_node.siguiente\n",
        "                else:\n",
        "                    self.__head = curr_node.siguiente\n",
        "                return True\n",
        "                    \n",
        "            anterior = curr_node\n",
        "            curr_node = curr_node.siguiente\n",
        "            \n",
        "        return False   \n",
        "\n",
        "    def pop( self , pos ):\n",
        "        elementos = [self.__head.dato]\n",
        "        curr_node = self.__head\n",
        "        while curr_node != None and curr_node.siguiente != None:\n",
        "           curr_node = curr_node.siguiente\n",
        "           elementos.append(curr_node.dato)\n",
        "        try:\n",
        "            print(f\"El valor en la posicion {pos} es = {elementos [pos]}\")\n",
        "        except IndexError:\n",
        "            print(f\"La posicion {pos} no es valida\")"
      ],
      "execution_count": 183,
      "outputs": []
    },
    {
      "cell_type": "code",
      "metadata": {
        "colab": {
          "base_uri": "https://localhost:8080/"
        },
        "id": "Kkhmyo0AXLwx",
        "outputId": "ebc428a6-7811-4fd9-f7c9-99035cbe57e7"
      },
      "source": [
        "l = LinkedList()\n",
        "\n",
        "l.append(10)\n",
        "l.append(20)\n",
        "l.append(30)\n",
        "l.append(40)\n",
        "l.append(50)\n",
        "l.append(60)\n",
        "l.append(70)\n",
        "\n",
        "#Provando remove\n",
        "l.transversal()\n",
        "l.remove(10)\n",
        "l.transversal()\n",
        "l.remove(60)\n",
        "l.transversal()\n",
        "print(\"\")\n",
        "\n",
        "#Provando pop\n",
        "l.pop(0)\n",
        "l.pop(3)\n",
        "l.pop(4)\n",
        "l.pop(10)"
      ],
      "execution_count": 184,
      "outputs": [
        {
          "output_type": "stream",
          "text": [
            "10 -->20 -->30 -->40 -->50 -->60 -->70 -->\n",
            "20 -->30 -->40 -->50 -->60 -->70 -->\n",
            "20 -->30 -->40 -->50 -->70 -->\n",
            "\n",
            "El valor en la posicion 0 es = 20\n",
            "El valor en la posicion 3 es = 50\n",
            "El valor en la posicion 4 es = 70\n",
            "La posicion 10 no es valida\n"
          ],
          "name": "stdout"
        }
      ]
    }
  ]
}