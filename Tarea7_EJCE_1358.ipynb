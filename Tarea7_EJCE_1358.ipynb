{
  "nbformat": 4,
  "nbformat_minor": 0,
  "metadata": {
    "colab": {
      "name": "Tarea7_EJCE_1358.ipynb",
      "provenance": [],
      "authorship_tag": "ABX9TyPWO15puXtTQMdFBl72TXhh",
      "include_colab_link": true
    },
    "kernelspec": {
      "name": "python3",
      "display_name": "Python 3"
    }
  },
  "cells": [
    {
      "cell_type": "markdown",
      "metadata": {
        "id": "view-in-github",
        "colab_type": "text"
      },
      "source": [
        "<a href=\"https://colab.research.google.com/github/Eder-Carballo/edd_1358_2021/blob/master/Tarea7_EJCE_1358.ipynb\" target=\"_parent\"><img src=\"https://colab.research.google.com/assets/colab-badge.svg\" alt=\"Open In Colab\"/></a>"
      ]
    },
    {
      "cell_type": "code",
      "metadata": {
        "id": "jJXMya_tb3qE"
      },
      "source": [
        "class Stack:\n",
        "\n",
        "    def __init__( self ):\n",
        "        self.__data = []\n",
        "        self.__size = 0\n",
        "\n",
        "    def pop( self ):\n",
        "        return self.__data.pop()\n",
        "    \n",
        "    def peek( self ):\n",
        "        return self.__data[-1]\n",
        "\n",
        "    def push( self , value ):\n",
        "        self.__data.append( value )\n",
        "    \n",
        "    def to_string( self ):\n",
        "        print(\"----\")\n",
        "        for dato in self.__data[::-1]:\n",
        "            print(f\"| { dato } |\")\n",
        "            print(\"----\")"
      ],
      "execution_count": 2,
      "outputs": []
    },
    {
      "cell_type": "code",
      "metadata": {
        "colab": {
          "base_uri": "https://localhost:8080/"
        },
        "id": "MmPV94QIcHfj",
        "outputId": "d4325a10-b4d3-4ee7-8d77-f1c57cf5b099"
      },
      "source": [
        "#cadena =\"b=3*5(+(4/2))\"\n",
        "cadena =\")))))(()\"\n",
        "pila = Stack()\n",
        "pila.push(\"#\") # caracter de pìla vacia.\n",
        "for elem in cadena:\n",
        "    if elem == '(':\n",
        "        pila.push('*')\n",
        "    elif elem == ')':\n",
        "        if pila.peek() =='#': \n",
        "            pila.push('*')    \n",
        "            break\n",
        "        else:\n",
        "            pila.pop()\n",
        "    \n",
        "if pila.peek() == '#':\n",
        "    print(\"La exprecion esta balanceada en parentesis\")\n",
        "else:\n",
        "    print(\"La exprecion no esta balanceada\")"
      ],
      "execution_count": 8,
      "outputs": [
        {
          "output_type": "stream",
          "text": [
            "La exprecion no esta balanceada\n"
          ],
          "name": "stdout"
        }
      ]
    }
  ]
}