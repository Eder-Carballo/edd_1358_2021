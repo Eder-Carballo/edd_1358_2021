{
  "nbformat": 4,
  "nbformat_minor": 0,
  "metadata": {
    "colab": {
      "name": "Tarea8_EJCE_1358.ipynb",
      "provenance": [],
      "collapsed_sections": [],
      "authorship_tag": "ABX9TyMVaGCcwuReU2N/PCV0iwRo",
      "include_colab_link": true
    },
    "kernelspec": {
      "name": "python3",
      "display_name": "Python 3"
    }
  },
  "cells": [
    {
      "cell_type": "markdown",
      "metadata": {
        "id": "view-in-github",
        "colab_type": "text"
      },
      "source": [
        "<a href=\"https://colab.research.google.com/github/Eder-Carballo/edd_1358_2021/blob/master/Tarea8_EJCE_1358.ipynb\" target=\"_parent\"><img src=\"https://colab.research.google.com/assets/colab-badge.svg\" alt=\"Open In Colab\"/></a>"
      ]
    },
    {
      "cell_type": "code",
      "metadata": {
        "id": "eWQMlS73afYC"
      },
      "source": [
        "class PriorityQueue:\r\n",
        "    def __init__( self ):\r\n",
        "        self.__data = list()\r\n",
        "\r\n",
        "    def is_empty( self ):\r\n",
        "        return len(self.__data) == 0\r\n",
        "\r\n",
        "    def length( self ):\r\n",
        "        return len(self.__data)\r\n",
        "\r\n",
        "    def enqueue(self , prioridad ):\r\n",
        "        self.__data.append( prioridad  ) \r\n",
        "        bs=self.__data\r\n",
        "        cs=sorted(bs)\r\n",
        "        self.__data = cs\r\n",
        "\r\n",
        "    def dequeue( self ):\r\n",
        "        if not self.is_empty():\r\n",
        "            bs=self.__data\r\n",
        "            cs=sorted(bs)\r\n",
        "            self.__data = cs\r\n",
        "            return cs.pop(0)\r\n",
        "        else: \r\n",
        "            return None \r\n",
        "\r\n",
        "    def to_string( self ):\r\n",
        "        bs=self.__data\r\n",
        "        cs=sorted(bs)\r\n",
        "        for elem in cs:\r\n",
        "            print(f\"| { elem } \" , end =\"\")\r\n",
        "        print(\"|\")"
      ],
      "execution_count": 1,
      "outputs": []
    },
    {
      "cell_type": "code",
      "metadata": {
        "colab": {
          "base_uri": "https://localhost:8080/"
        },
        "id": "B51qgd86aglE",
        "outputId": "1f359903-8af4-471a-cc37-e9f0c8263979"
      },
      "source": [
        "hola = PriorityQueue()\r\n",
        "r = hola.is_empty()\r\n",
        "print(r)\r\n",
        "hola.enqueue( 4 )\r\n",
        "hola.to_string()\r\n",
        "hola.enqueue( 7 )\r\n",
        "hola.to_string()\r\n",
        "hola.enqueue( 2 )\r\n",
        "hola.to_string()\r\n",
        "hola.enqueue( 1 )\r\n",
        "hola.to_string()\r\n",
        "hola.enqueue( 3 )\r\n",
        "hola.to_string()\r\n",
        "hola.enqueue( 0 )\r\n",
        "hola.to_string()\r\n",
        "hola.enqueue( 3 )\r\n",
        "hola.to_string()\r\n",
        "vacia = hola.is_empty()\r\n",
        "print(vacia)\r\n",
        "tamanio = hola.length()\r\n",
        "print(tamanio)\r\n",
        "hola.dequeue()\r\n",
        "hola.to_string()\r\n",
        "hola.dequeue()\r\n",
        "hola.to_string()\r\n",
        "hola.dequeue()\r\n",
        "hola.to_string()\r\n",
        "f = hola.length()\r\n",
        "print(f)"
      ],
      "execution_count": 5,
      "outputs": [
        {
          "output_type": "stream",
          "text": [
            "True\n",
            "| 4 |\n",
            "| 4 | 7 |\n",
            "| 2 | 4 | 7 |\n",
            "| 1 | 2 | 4 | 7 |\n",
            "| 1 | 2 | 3 | 4 | 7 |\n",
            "| 0 | 1 | 2 | 3 | 4 | 7 |\n",
            "| 0 | 1 | 2 | 3 | 3 | 4 | 7 |\n",
            "False\n",
            "7\n",
            "| 1 | 2 | 3 | 3 | 4 | 7 |\n",
            "| 2 | 3 | 3 | 4 | 7 |\n",
            "| 3 | 3 | 4 | 7 |\n",
            "4\n"
          ],
          "name": "stdout"
        }
      ]
    }
  ]
}