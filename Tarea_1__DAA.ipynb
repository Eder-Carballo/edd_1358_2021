{
  "nbformat": 4,
  "nbformat_minor": 0,
  "metadata": {
    "colab": {
      "name": "Tarea 1 _DAA.ipynb",
      "provenance": [],
      "collapsed_sections": [],
      "authorship_tag": "ABX9TyO1OBEBvYM6dZ9CIbYlVkl5",
      "include_colab_link": true
    },
    "kernelspec": {
      "name": "python3",
      "display_name": "Python 3"
    },
    "language_info": {
      "name": "python"
    }
  },
  "cells": [
    {
      "cell_type": "markdown",
      "metadata": {
        "id": "view-in-github",
        "colab_type": "text"
      },
      "source": [
        "<a href=\"https://colab.research.google.com/github/Eder-Carballo/edd_1358_2021/blob/master/Tarea_1__DAA.ipynb\" target=\"_parent\"><img src=\"https://colab.research.google.com/assets/colab-badge.svg\" alt=\"Open In Colab\"/></a>"
      ]
    },
    {
      "cell_type": "code",
      "metadata": {
        "colab": {
          "base_uri": "https://localhost:8080/"
        },
        "id": "HhCjvdmZAiqw",
        "outputId": "29f78762-fdb6-43a7-98b5-95ce08bf9dda"
      },
      "source": [
        "class Nodo:\n",
        "    def __init__( self, value, middle=None, left=None, right=None ):\n",
        "        self.data = value\n",
        "        self.middle = middle\n",
        "        self.left = left\n",
        "        self.right = right\n",
        "\n",
        "head = Nodo( 20 , Nodo( 19 , None , None , Nodo(67 , Nodo(99 , None , None , None) , None , None ) ) , Nodo(23 , Nodo(57 , None , None , None ) , None , None ) , None)\n",
        "\n",
        "print(\"Nodo =\", head.middle.right.middle.data)\n",
        "print(\"\")\n",
        "print(\"Nodo =\",head.left.middle.data)"
      ],
      "execution_count": null,
      "outputs": [
        {
          "output_type": "stream",
          "name": "stdout",
          "text": [
            "Nodo = 99\n",
            "\n",
            "Nodo = 57\n"
          ]
        }
      ]
    }
  ]
}