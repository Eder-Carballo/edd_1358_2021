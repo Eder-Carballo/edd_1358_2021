{
  "nbformat": 4,
  "nbformat_minor": 0,
  "metadata": {
    "colab": {
      "name": "Untitled0.ipynb",
      "provenance": [],
      "authorship_tag": "ABX9TyO1OBEBvYM6dZ9CIbYlVkl5",
      "include_colab_link": true
    },
    "kernelspec": {
      "name": "python3",
      "display_name": "Python 3"
    },
    "language_info": {
      "name": "python"
    }
  },
  "cells": [
    {
      "cell_type": "markdown",
      "metadata": {
        "id": "view-in-github",
        "colab_type": "text"
      },
      "source": [
        "<a href=\"https://colab.research.google.com/github/Eder-Carballo/edd_1358_2021/blob/master/Untitled0.ipynb\" target=\"_parent\"><img src=\"https://colab.research.google.com/assets/colab-badge.svg\" alt=\"Open In Colab\"/></a>"
      ]
    },
    {
      "cell_type": "code",
      "metadata": {
        "id": "HhCjvdmZAiqw",
        "outputId": "0e499fd4-4348-4fc7-ba5e-8ba85fc67ab8",
        "colab": {
          "base_uri": "https://localhost:8080/"
        }
      },
      "source": [
        "class Nodo:\n",
        "    def __init__( self, value, middle=None, left=None, right=None ):\n",
        "        self.data = value\n",
        "        self.middle = middle\n",
        "        self.left = left\n",
        "        self.right = right\n",
        "\n",
        "head = Nodo( 20 , Nodo( 19 , None , None , Nodo(67 , Nodo(99 , None , None , None) , None , None ) ) , Nodo(23 , Nodo(57 , None , None , None ) , None , None ) , None)\n",
        "\n",
        "print(\"Nodo =\", head.middle.right.middle.data)\n",
        "print(\"\")\n",
        "print(\"Nodo =\",head.left.middle.data)"
      ],
      "execution_count": 30,
      "outputs": [
        {
          "output_type": "stream",
          "name": "stdout",
          "text": [
            "Nodo = 99\n",
            "\n",
            "Nodo = 57\n"
          ]
        }
      ]
    }
  ]
}